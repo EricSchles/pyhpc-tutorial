{
 "metadata": {
  "name": "Introducing Python"
 },
 "nbformat": 3,
 "nbformat_minor": 0,
 "worksheets": [
  {
   "cells": [
    {
     "cell_type": "markdown",
     "metadata": {},
     "source": [
      "Why Python?\n",
      "===========\n",
      "\n",
      "* It's fast to get started,\n",
      "* works everywhere,\n",
      "* can be profiled and sped up well, and\n",
      "* it has been proven in HPC world!"
     ]
    },
    {
     "cell_type": "code",
     "collapsed": false,
     "input": [],
     "language": "python",
     "metadata": {},
     "outputs": []
    }
   ],
   "metadata": {}
  }
 ]
}