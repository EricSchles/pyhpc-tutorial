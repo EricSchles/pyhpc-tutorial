{
 "metadata": {
  "name": "02_Speeding_Python"
 },
 "nbformat": 3,
 "nbformat_minor": 0,
 "worksheets": [
  {
   "cells": [
    {
     "cell_type": "markdown",
     "metadata": {},
     "source": [
      "Python in HPC\n",
      "=============\n",
      "\n",
      "Supercomputing 2012\n",
      "-------------------\n",
      "\n",
      "Presenters: \n",
      "\n",
      "Andy R. Terrel, PhD  \n",
      "Texas Advanced Computing Center  \n",
      "University of Texas at Austin  \n",
      "\n",
      "Travis Oliphant, PhD  \n",
      "Continuum Analytics \n",
      "\n",
      "Aron Ahmadia, PhD  \n",
      "Supercomputing Laboratory  \n",
      "King Abdullah University of Science and Technoglogy \n",
      "\n",
      "[![Creative Commons License](/files/figures/creative_commons_logo.png)](http://creativecommons.org/licenses/by/3.0/deed.en_US)  \n",
      "\n",
      "![TACC Logo](/files/figures/TACC_logo.png)\n",
      "![Continuum Logo](/files/figures/continuum.png)\n",
      "![KAUST Logo](/files/figures/kaust.png)\n"
     ]
    },
    {
     "cell_type": "markdown",
     "metadata": {},
     "source": [
      "---\n",
      "\n",
      "## Updated Tutorial\n",
      "\n",
      "These presentation materials are being continuously updated as we refine and improve our demonstrats.  To get the latest version of this tutorial you can:\n",
      "\n",
      "1) Download a zip or tar ball from the [github SC2012 tag](https://github.com/aterrel/HPCPythonSC2012/tags):\n",
      "\n",
      "    wget --no-check-certificate https://github.com/aterrel/HPCPythonSC2012/zipball/SC2012\n",
      "    wget --no-check-certificate https://github.com/aterrel/HPCPythonSC2012/tarball/SC2012\n",
      "\n",
      "2) Checkout from git\n",
      "\n",
      "    git clone https://github.com/aterrel/HPCPythonSC2012.git\n",
      "\n",
      "3) View the html version on nbviewer: http://nbviewer.ipython.org/urls/raw.github.com/aterrel/HPCPythonSC2012/master/02_Speeding_Python.ipynb\n",
      "\n",
      "4) As a last resort, head to https://github.com/aterrel/HPCPythonSC2012 for updated instructions (see the README at the bottom of the page).\n"
     ]
    },
    {
     "cell_type": "markdown",
     "metadata": {},
     "source": [
      "---\n",
      "\n",
      "## Interacting with the Tutorial Slides\n",
      "\n",
      "This tutorial is an interactive worksheet designed to encourage you to try out the lessons during the demonstration.  If you are looking at the pdf version, we encourage you to download the updated version (see previous slide) and try the interactive version.\n",
      "\n",
      "To run the interactive version, you need a good Python environment including: \n",
      "\n",
      "* IPython version >= 13.0\n",
      "* Numpy version >= 1.5\n",
      "* Scipy\n",
      "* Matplotlib\n",
      "\n",
      "Move to the directory containing the tarball and execute:\n",
      "\n",
      "    $ ipython notebook --pylab=inline\n",
      "\n",
      "We heartily endorse the [Free Enthought Python Distribution](http://www.enthought.com/products/epd_free.php)."
     ]
    },
    {
     "cell_type": "markdown",
     "metadata": {},
     "source": [
      "---\n",
      "## How Slow is Python\n",
      "\n",
      "\n",
      "Let's add one to a million number"
     ]
    },
    {
     "cell_type": "code",
     "collapsed": false,
     "input": [
      "lst = range(1000000) # A pure Python list\n",
      "%timeit [i + 1 for i in lst] # A Python list comprehension (iteration happens in C but with PyObjects)"
     ],
     "language": "python",
     "metadata": {},
     "outputs": [
      {
       "output_type": "stream",
       "stream": "stdout",
       "text": [
        "1 loops, best of 3: 208 ms per loop\n"
       ]
      }
     ],
     "prompt_number": 1
    },
    {
     "cell_type": "markdown",
     "metadata": {},
     "source": [
      "---\n",
      "##Why is Python Slow?\n",
      "\n",
      "Dynamic typing requires lots of metadata around variable. \n",
      "\n",
      "* Python uses heavy frame objects during iteration\n",
      "\n",
      "### Solution:\n",
      "* Make an object that has a single type and continuous storage.\n",
      "* Implement common functionality into that object to iterate in C."
     ]
    },
    {
     "cell_type": "code",
     "collapsed": false,
     "input": [
      "arr = arange(1000000) # A NumPy list of integers\n",
      "%timeit arr + 1 # Use operator overloading for nice syntax, now iteration is in C with ints"
     ],
     "language": "python",
     "metadata": {},
     "outputs": [
      {
       "output_type": "stream",
       "stream": "stdout",
       "text": [
        "100 loops, best of 3: 6.64 ms per loop\n"
       ]
      }
     ],
     "prompt_number": 2
    },
    {
     "cell_type": "markdown",
     "metadata": {},
     "source": [
      "---\n",
      "## What makes NumPy so much faster?\n",
      "* Data layout\n",
      "  * homogenous: every item takes up the same size block of memory\n",
      "  * single data-type objects\n",
      "  * powerful array scalar types\n",
      "\n",
      "* universal function (ufuncs)\n",
      "  * function that operates on ndarrays in an element-by-element fashion\n",
      "  * vectorized wrapper for a function\n",
      "  * built-in functions are implemented in compiled C code"
     ]
    },
    {
     "cell_type": "markdown",
     "metadata": {},
     "source": [
      "---\n",
      "## NumPy Data layout\n",
      "\n",
      "* homogenous: every item takes up the same size block of memory\n",
      "* single data-type objects\n",
      "* powerful array scalar types\n",
      "\n",
      "![three fundamental](/files/figures/numpy/threefundamental.png)\n",
      "\n"
     ]
    },
    {
     "cell_type": "markdown",
     "metadata": {},
     "source": [
      "---\n",
      "## NumPy Universal Functions (ufuncs)\n",
      "\n",
      "* function that operates on ndarrays in an element-by-element fashion\n",
      "* vectorized wrapper for a function\n",
      "* built-in functions are implemented in compiled C code"
     ]
    },
    {
     "cell_type": "code",
     "collapsed": false,
     "input": [
      "%timeit [sin(i)**2 for i in arr]\n"
     ],
     "language": "python",
     "metadata": {},
     "outputs": [
      {
       "output_type": "stream",
       "stream": "stdout",
       "text": [
        "1 loops, best of 3: 11.6 s per loop\n"
       ]
      }
     ],
     "prompt_number": 3
    },
    {
     "cell_type": "code",
     "collapsed": false,
     "input": [
      "%timeit np.sin(arr)**2"
     ],
     "language": "python",
     "metadata": {},
     "outputs": [
      {
       "output_type": "stream",
       "stream": "stdout",
       "text": [
        "10 loops, best of 3: 44.8 ms per loop\n"
       ]
      }
     ],
     "prompt_number": 6
    },
    {
     "cell_type": "markdown",
     "metadata": {},
     "source": [
      "---\n",
      "## Other NumPy features to be aware of\n",
      "\n",
      "* Reshaping"
     ]
    },
    {
     "cell_type": "code",
     "collapsed": false,
     "input": [
      "arr2 = arr.reshape((10,100000))\n",
      "print(arr2)"
     ],
     "language": "python",
     "metadata": {},
     "outputs": [
      {
       "output_type": "stream",
       "stream": "stdout",
       "text": [
        "[[     0      1      2 ...,  99997  99998  99999]\n",
        " [100000 100001 100002 ..., 199997 199998 199999]\n",
        " [200000 200001 200002 ..., 299997 299998 299999]\n",
        " ..., \n",
        " [700000 700001 700002 ..., 799997 799998 799999]\n",
        " [800000 800001 800002 ..., 899997 899998 899999]\n",
        " [900000 900001 900002 ..., 999997 999998 999999]]\n"
       ]
      }
     ],
     "prompt_number": 10
    },
    {
     "cell_type": "markdown",
     "metadata": {},
     "source": [
      "* Memory Views"
     ]
    },
    {
     "cell_type": "code",
     "collapsed": false,
     "input": [
      "arr2.view?"
     ],
     "language": "python",
     "metadata": {},
     "outputs": [],
     "prompt_number": 13
    },
    {
     "cell_type": "markdown",
     "metadata": {},
     "source": [
      "* Index Slicing"
     ]
    },
    {
     "cell_type": "code",
     "collapsed": false,
     "input": [
      "x = np.arange(0, 20, 2); y = x**2\n",
      "((y[1:] - y[:-1]) / (x[1:] - x[:-1])) # dy/dx"
     ],
     "language": "python",
     "metadata": {},
     "outputs": [
      {
       "output_type": "pyout",
       "prompt_number": 14,
       "text": [
        "array([ 2,  6, 10, 14, 18, 22, 26, 30, 34])"
       ]
      }
     ],
     "prompt_number": 14
    },
    {
     "cell_type": "code",
     "collapsed": false,
     "input": [
      "((y[2:] - y[:-2])/(x[2:] - x[:-2])) # d^2y/dx^2 via center differencing"
     ],
     "language": "python",
     "metadata": {},
     "outputs": [
      {
       "output_type": "pyout",
       "prompt_number": 15,
       "text": [
        "array([ 4,  8, 12, 16, 20, 24, 28, 32])"
       ]
      }
     ],
     "prompt_number": 15
    },
    {
     "cell_type": "markdown",
     "metadata": {},
     "source": [
      "* Fancy Indexing"
     ]
    },
    {
     "cell_type": "code",
     "collapsed": false,
     "input": [
      "evens = arr[arr%2 == 0]\n",
      "print(evens)"
     ],
     "language": "python",
     "metadata": {},
     "outputs": [
      {
       "output_type": "stream",
       "stream": "stdout",
       "text": [
        "[     0      2      4 ..., 999994 999996 999998]\n"
       ]
      }
     ],
     "prompt_number": 18
    },
    {
     "cell_type": "markdown",
     "metadata": {},
     "source": [
      "---\n",
      "## Compiling to C\n",
      "\n",
      "C is faster, and Python is easier to write.  We want both!\n",
      "\n",
      "## Cython\n",
      "* a programming language based on Python\n",
      "* uses extra syntax allowing for optional static type declarations\n",
      "* source code gets translated into optimized C/C++ code and compiled as Python extension modules\n"
     ]
    },
    {
     "cell_type": "markdown",
     "metadata": {},
     "source": [
      "---\n",
      "## Using Cython in IPython\n",
      "\n",
      "In IPython we can make any cell call out to Cython via the cell magic\n",
      "\n",
      "First load the extension"
     ]
    },
    {
     "cell_type": "code",
     "collapsed": false,
     "input": [
      "%load_ext cythonmagic"
     ],
     "language": "python",
     "metadata": {},
     "outputs": [],
     "prompt_number": 19
    },
    {
     "cell_type": "markdown",
     "metadata": {},
     "source": [
      "Now use `%%cython` at the begining of a code cell to call out to Cython."
     ]
    },
    {
     "cell_type": "code",
     "collapsed": false,
     "input": [
      "%%cython\n",
      "def f_cython(int i):\n",
      "    return i**4 + 3*i**2 + 10"
     ],
     "language": "python",
     "metadata": {},
     "outputs": [],
     "prompt_number": 27
    },
    {
     "cell_type": "markdown",
     "metadata": {},
     "source": [
      "Now use Cython function in code:"
     ]
    },
    {
     "cell_type": "code",
     "collapsed": false,
     "input": [
      "f(100)"
     ],
     "language": "python",
     "metadata": {},
     "outputs": [
      {
       "output_type": "pyout",
       "prompt_number": 28,
       "text": [
        "100030010"
       ]
      }
     ],
     "prompt_number": 28
    },
    {
     "cell_type": "markdown",
     "metadata": {},
     "source": [
      "---\n",
      "\n",
      "## How much faster is Cython?\n",
      "\n",
      "The more you are able to provide type information the better the compile. For example f without type information:"
     ]
    },
    {
     "cell_type": "code",
     "collapsed": false,
     "input": [
      "%%cython\n",
      "def f_slow(i):\n",
      "    return i**4 + 3*i**2 + 10"
     ],
     "language": "python",
     "metadata": {},
     "outputs": [],
     "prompt_number": 24
    },
    {
     "cell_type": "code",
     "collapsed": false,
     "input": [
      "%timeit f_slow(100)"
     ],
     "language": "python",
     "metadata": {},
     "outputs": [
      {
       "output_type": "stream",
       "stream": "stdout",
       "text": [
        "1000000 loops, best of 3: 248 ns per loop\n"
       ]
      }
     ],
     "prompt_number": 25
    },
    {
     "cell_type": "code",
     "collapsed": false,
     "input": [
      "%timeit f_cython(100)"
     ],
     "language": "python",
     "metadata": {},
     "outputs": [
      {
       "output_type": "stream",
       "stream": "stdout",
       "text": [
        "10000000 loops, best of 3: 117 ns per loop\n"
       ]
      }
     ],
     "prompt_number": 29
    },
    {
     "cell_type": "markdown",
     "metadata": {},
     "source": [
      "---\n",
      "## Declaring Cython variables for C level\n",
      "\n",
      "If you use a variable or function only at the Cython level you can keep it in C via `cdef`:"
     ]
    },
    {
     "cell_type": "code",
     "collapsed": false,
     "input": [
      "%%cython\n",
      "cdef f(double x):\n",
      "    return x**2-x\n",
      "\n",
      "def integrate_f(double a, double b, int N):\n",
      "    cdef int i\n",
      "    cdef double s, dx\n",
      "    s = 0\n",
      "    dx = (b-a)/N\n",
      "    for i in range(N):\n",
      "        s += f(a+i*dx)\n",
      "    return s * dx"
     ],
     "language": "python",
     "metadata": {},
     "outputs": [],
     "prompt_number": 30
    },
    {
     "cell_type": "code",
     "collapsed": false,
     "input": [
      "%timeit integrate_f(1.0, 2.0, 1000)"
     ],
     "language": "python",
     "metadata": {},
     "outputs": [
      {
       "output_type": "stream",
       "stream": "stdout",
       "text": [
        "10000 loops, best of 3: 37.4 us per loop\n"
       ]
      }
     ],
     "prompt_number": 32
    },
    {
     "cell_type": "markdown",
     "metadata": {},
     "source": [
      "The pure Python version:"
     ]
    },
    {
     "cell_type": "code",
     "collapsed": false,
     "input": [
      "def f(x):\n",
      "    return x**2-x\n",
      "\n",
      "def integrate_f(a, b, N):\n",
      "    s = 0\n",
      "    dx = (b-a)/N\n",
      "    for i in range(N):\n",
      "        s += f(a+i*dx)\n",
      "    return s * dx"
     ],
     "language": "python",
     "metadata": {},
     "outputs": [],
     "prompt_number": 33
    },
    {
     "cell_type": "code",
     "collapsed": false,
     "input": [
      "%timeit integrate_f(1.0, 2.0, 1000)"
     ],
     "language": "python",
     "metadata": {},
     "outputs": [
      {
       "output_type": "stream",
       "stream": "stdout",
       "text": [
        "1000 loops, best of 3: 530 us per loop\n"
       ]
      }
     ],
     "prompt_number": 34
    },
    {
     "cell_type": "markdown",
     "metadata": {},
     "source": [
      "---\n",
      "## Using NumPy with Cython\n",
      "\n",
      "You can also use fast accessors to NumPy arrays from Cython:"
     ]
    },
    {
     "cell_type": "code",
     "collapsed": false,
     "input": [
      "%%cython\n",
      "import numpy as np\n",
      "# \"cimport\" is used to import special compile-time information\n",
      "# about the numpy module (this is stored in a file numpy.pxd which is\n",
      "# currently part of the Cython distribution).\n",
      "cimport numpy as np\n",
      "# We now need to fix a datatype for our arrays. I've used the variable\n",
      "# DTYPE for this, which is assigned to the usual NumPy runtime\n",
      "# type info object.\n",
      "DTYPE = np.int\n",
      "# \"ctypedef\" assigns a corresponding compile-time type to DTYPE_t. For\n",
      "# every type in the numpy module there's a corresponding compile-time\n",
      "# type with a _t-suffix.\n",
      "ctypedef np.int_t DTYPE_t\n",
      "# \"def\" can type its arguments but not have a return type. The type of the\n",
      "# arguments for a \"def\" function is checked at run-time when entering the\n",
      "# function.\n",
      "#\n",
      "# The arrays f, g and h is typed as \"np.ndarray\" instances. The only effect\n",
      "# this has is to a) insert checks that the function arguments really are\n",
      "# NumPy arrays, and b) make some attribute access like f.shape[0] much\n",
      "# more efficient. (In this example this doesn't matter though.)\n",
      "def naive_convolve(np.ndarray f, np.ndarray g):\n",
      "    if g.shape[0] % 2 != 1 or g.shape[1] % 2 != 1:\n",
      "        raise ValueError(\"Only odd dimensions on filter supported\")\n",
      "    assert f.dtype == DTYPE and g.dtype == DTYPE\n",
      "    # The \"cdef\" keyword is also used within functions to type variables. It\n",
      "    # can only be used at the top indendation level (there are non-trivial\n",
      "    # problems with allowing them in other places, though we'd love to see\n",
      "    # good and thought out proposals for it).\n",
      "    #\n",
      "    # For the indices, the \"int\" type is used. This corresponds to a C int,\n",
      "    # other C types (like \"unsigned int\") could have been used instead.\n",
      "    # Purists could use \"Py_ssize_t\" which is the proper Python type for\n",
      "    # array indices.\n",
      "    cdef int vmax = f.shape[0]\n",
      "    cdef int wmax = f.shape[1]\n",
      "    cdef int smax = g.shape[0]\n",
      "    cdef int tmax = g.shape[1]\n",
      "    cdef int smid = smax // 2\n",
      "    cdef int tmid = tmax // 2\n",
      "    cdef int xmax = vmax + 2*smid\n",
      "    cdef int ymax = wmax + 2*tmid\n",
      "    cdef np.ndarray h = np.zeros([xmax, ymax], dtype=DTYPE)\n",
      "    cdef int x, y, s, t, v, w\n",
      "    # It is very important to type ALL your variables. You do not get any\n",
      "    # warnings if not, only much slower code (they are implicitly typed as\n",
      "    # Python objects).\n",
      "    cdef int s_from, s_to, t_from, t_to\n",
      "    # For the value variable, we want to use the same data type as is\n",
      "    # stored in the array, so we use \"DTYPE_t\" as defined above.\n",
      "    # NB! An important side-effect of this is that if \"value\" overflows its\n",
      "    # datatype size, it will simply wrap around like in C, rather than raise\n",
      "    # an error like in Python.\n",
      "    cdef DTYPE_t value\n",
      "    for x in range(xmax):\n",
      "        for y in range(ymax):\n",
      "            s_from = max(smid - x, -smid)\n",
      "            s_to = min((xmax - x) - smid, smid + 1)\n",
      "            t_from = max(tmid - y, -tmid)\n",
      "            t_to = min((ymax - y) - tmid, tmid + 1)\n",
      "            value = 0\n",
      "            for s in range(s_from, s_to):\n",
      "                for t in range(t_from, t_to):\n",
      "                    v = x - smid + s\n",
      "                    w = y - tmid + t\n",
      "                    value += g[smid - s, tmid - t] * f[v, w]\n",
      "            h[x, y] = value\n",
      "    return h"
     ],
     "language": "python",
     "metadata": {},
     "outputs": [],
     "prompt_number": 35
    },
    {
     "cell_type": "code",
     "collapsed": false,
     "input": [
      "N=100\n",
      "f = np.arange(N*N, dtype=np.int).reshape((N,N))\n",
      "g = np.arange(81, dtype=np.int).reshape((9, 9))\n",
      "%timeit -n2 -r3 naive_convolve(f, g)"
     ],
     "language": "python",
     "metadata": {},
     "outputs": [
      {
       "output_type": "stream",
       "stream": "stdout",
       "text": [
        "2 loops, best of 3: 1.52 s per loop\n"
       ]
      }
     ],
     "prompt_number": 36
    }
   ],
   "metadata": {}
  }
 ]
}