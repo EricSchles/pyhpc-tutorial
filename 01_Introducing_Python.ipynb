{
 "metadata": {
  "name": "01_Introducing_Python"
 },
 "nbformat": 3,
 "nbformat_minor": 0,
 "worksheets": [
  {
   "cells": [
    {
     "cell_type": "markdown",
     "metadata": {},
     "source": [
      "Python in HPC\n",
      "=============\n",
      "\n",
      "Supercomputing 2012\n",
      "-------------------\n",
      "\n",
      "Presenters:\n",
      "\n",
      "Andy R. Terrel, PhD  \n",
      "Texas Advanced Computing Center  \n",
      "University of Texas at Austin  \n",
      "\n",
      "Travis Oliphant, PhD  \n",
      "Continuum Analytics\n",
      "\n",
      "Aron Ahmadia, PhD  \n",
      "Supercomputing Laboratory  \n",
      "King Abdullah University of Science and Technoglogy\n",
      "\n",
      "\n",
      "<img src=\"/files/figures/TACC_logo.png\" />\n",
      "<img src=\"/files/figures/continuum.png\" />\n",
      "<img src=\"/files/figures/kaust.png\" />\n"
     ]
    },
    {
     "cell_type": "markdown",
     "metadata": {},
     "source": [
      "---\n",
      "\n",
      "Introduction\n",
      "------------\n",
      "\n",
      "### Class Objectives\n",
      "\n",
      "1. You will understand how scripting languages fit into the toolbox of\n",
      "a computational scientist.\n",
      "2. You will see why python is a powerful choice\n",
      "\n",
      "This introduction is an adaptation of the introduction of *Python\n",
      "Scripting for Computational Science* by Hans Petter Langtangen.\n",
      "\n",
      "<img src=\"/files/figures/books.png\" />\n"
     ]
    },
    {
     "cell_type": "markdown",
     "metadata": {},
     "source": [
      "Scripting vs Traditional programming\n",
      "------------------------------------\n",
      "\n",
      "In traditional programming, large applications are typically\n",
      "written at a low level. Scripting by contrast is programming at a\n",
      "very high level with flexible languages. \n",
      "\n",
      "> Traditional programming: fortran, c, c++, c#, java\n",
      ">\n",
      "> Scripting: python, perl, ruby, (matlab)\n",
      "\n",
      "A major thrust of scripting is that you can automate many tasks\n",
      "that otherwise you would do by hand.\n"
     ]
    },
    {
     "cell_type": "markdown",
     "metadata": {},
     "source": [
      "---\n",
      "\n",
      "Has this ever happened to you?\n",
      "------------------------------\n",
      "\n",
      "### Scene 1\n",
      "You are working on data for a presentation your advisor is giving\n",
      "at a conference. At the last minute, you realize that there is a\n",
      "major bug in your code and you need to regenerate all the images\n",
      "and graphs that you have given him. You spend 30 minutes\n",
      "regenerating the data and 6 hours regenerating the graphs because\n",
      "you had them in Excel and had done them by hand.\n",
      "\n",
      "### Scene 2\n",
      "You are working on your thesis and as you near the finish you\n",
      "review some graphs you generated months earlier and you aren't\n",
      "sure if they are now completely up to date. You spend half a day\n",
      "locating the old code that you wrote on your second laptop and\n",
      "hours more again creating and polishing the charts.\n"
     ]
    },
    {
     "cell_type": "markdown",
     "metadata": {},
     "source": [
      "---\n",
      "\n",
      "Buyer Beware\n",
      "------------\n",
      "\n",
      "Learning to automate many of these common tasks can greatly\n",
      "increase your productivity (and make your research\n",
      "reproducible). However, beware that there is no end to the number\n",
      "of different ways to do essentially the same thing. \n",
      "\n",
      "<img src=\"files/figures/careful.png\" alt=\"Recall we want to script to SAVE time\"/>\n",
      "\n",
      "\n",
      "\t"
     ]
    },
    {
     "cell_type": "markdown",
     "metadata": {},
     "source": [
      "---\n",
      "\n",
      "Why scripting is useful\n",
      "-----------------------\n",
      "\n",
      "There are perhaps many reasons, here we list a few:\n",
      "\n",
      "* scripting languages have nicer interfaces\n",
      "* allow you to build your own work environment\n",
      "* scientific computing is more than crunching numbers\n",
      "* easier creation of GUIs and demos\n",
      "* create modern interfaces to old codes\n",
      "* allow you test interactively\n",
      "* cleaner, shorter, easy to read code"
     ]
    },
    {
     "cell_type": "markdown",
     "metadata": {},
     "source": [
      "---\n",
      "\n",
      "Is Python > Matlab?\n",
      "-------------------\n",
      "\n",
      "### Similarities\n",
      "\n",
      "* no vairable declaration\n",
      "* simple and easy to use syntax\n",
      "* easy creation of GUIs\n",
      "* merges simulation and visualization\n",
      "\n",
      "### Differences\n",
      "\n",
      "* Python was designed to be completely open and to be integrated with external tools\n",
      "* A Python module may contain a lot of functions and classes (compared to many m-files)\n",
      "* Object-oriented programming is more convenient\n",
      "* Interfacing C,C++,Fortran is better supported\n",
      "* scalar functions typically work with array arguments without changes to the arithmetic operators\n",
      "* Python is FREE and runs on most any platform\n"
     ]
    },
    {
     "cell_type": "markdown",
     "metadata": {},
     "source": [
      "---\n",
      "\n",
      "The right tool for the job\n",
      "--------------------------\n",
      "\n",
      "Many times people are looking for an easy way out. Scripting is\n",
      "easier to use, but not well suited for every situation. How do\n",
      "you know which tool is right for the job?\n",
      "\n",
      "### Traditional programming\n",
      "\n",
      "* Does the application implement complex algorithms and/or data structures where low level control of implementation details is critical? \n",
      "* Does the application manipulate large datasets and thus the memory has to be carefully controlled?\n",
      "* Are you not likely to be changing the code once it is programmed?\n",
      "\n",
      "### Scripting\n",
      "\n",
      "* Your application's main task is to connected existing components\n",
      "* The application depends on manipulating text\n",
      "* The design of the application is expected to change over its life\n",
      "* The CPU-intensive parts of your application may be migrated to C or Fortran\n",
      "* Your application is largely based on common objects found in computer science\n"
     ]
    },
    {
     "cell_type": "markdown",
     "metadata": {},
     "source": [
      "---\n",
      "\n",
      "Some Sample Applications\n",
      "========================\n"
     ]
    },
    {
     "cell_type": "markdown",
     "metadata": {},
     "source": [
      "---\n",
      "\n",
      "Teaching the finite element method\n",
      "----------------------------------\n",
      "\n",
      "### Stiffness matrix computation\n",
      "\n",
      "<img src=\"files/figures/fem.png\"/>\n"
     ]
    },
    {
     "cell_type": "markdown",
     "metadata": {},
     "source": [
      "---\n",
      "\n",
      "Monitor program progress\n",
      "------------------------\n",
      "\n",
      "### Python parses a datafile and makes plots of current progress\n",
      "\n",
      "<img src=\"files/figures/log.png\"/>\n"
     ]
    },
    {
     "cell_type": "markdown",
     "metadata": {},
     "source": [
      "---\n",
      "\n",
      "Problem prototypes\n",
      "------------------\n",
      "\n",
      "### Nonlinear, time dependent problem\n",
      "\n",
      "<img src=\"files/figures/dsw.png\"/>"
     ]
    },
    {
     "cell_type": "markdown",
     "metadata": {},
     "source": [
      "---\n",
      "\n",
      "Problem prototypes\n",
      "------------------\n",
      "\n",
      "### Method for fitting surface to data\n",
      "\n",
      "<img src=\"files/figures/molt.png\"/>\n"
     ]
    },
    {
     "cell_type": "markdown",
     "metadata": {},
     "source": [
      "\n",
      "---\n",
      "\n",
      "Structural program\n",
      "------------------\n",
      "\n",
      "### Python manages floors and columns\n",
      "\n",
      "<img src=\"files/figures/struct.png\">"
     ]
    },
    {
     "cell_type": "markdown",
     "metadata": {},
     "source": [
      "---\n",
      "\n",
      "Auto-generation of results\n",
      "--------------------------\n",
      "\n",
      "### Python runs my c-code, post-processes the results, and generates the latex table\n",
      "\n",
      "<img src=\"files/figures/dpg.png\"/>\n"
     ]
    },
    {
     "cell_type": "markdown",
     "metadata": {},
     "source": [
      "\n",
      "---\n",
      "\n",
      "Beginner's Guide\n",
      "================\n"
     ]
    },
    {
     "cell_type": "markdown",
     "metadata": {},
     "source": [
      "---\n",
      "\n",
      "Script 1\n",
      "--------\n",
      "\n",
      "    "
     ]
    },
    {
     "cell_type": "code",
     "collapsed": false,
     "input": [
      "#!/usr/bin/env python\n",
      "import math\n",
      "r = math.pi / 2.0\n",
      "s = math.sin(r)\n",
      "print \"Hello world, sin(%f)=%f\" % (r,s)\n"
     ],
     "language": "python",
     "metadata": {},
     "outputs": [
      {
       "output_type": "stream",
       "stream": "stdout",
       "text": [
        "Hello world, sin(1.570796)=1.000000\n"
       ]
      }
     ],
     "prompt_number": 3
    },
    {
     "cell_type": "markdown",
     "metadata": {},
     "source": [
      "---\n",
      "\n",
      "Script 2\n",
      "--------\n",
      "\n",
      "    "
     ]
    },
    {
     "cell_type": "code",
     "collapsed": false,
     "input": [
      "import math\n",
      "infile = \"data/numbers\"\n",
      "outfile = \"data/f_numbers\"\n",
      "\n",
      "f = open(infile,'r')\n",
      "g = open(outfile,'w')\n",
      "\n",
      "def func(y):\n",
      "    if y >= 0.0:\n",
      "        return y**5.0*math.exp(-y)\n",
      "    else:\n",
      "        return 0.0\n",
      "    \n",
      "for line in f:\n",
      "    line = line.split()\n",
      "    x = float(line[0])\n",
      "    y = float(line[1])\n",
      "    fy = func(y)\n",
      "    g.write(\"%g %12.5e\\n\" % (x,fy))\n",
      "    \n",
      "f.close() \n",
      "g.close()\n"
     ],
     "language": "python",
     "metadata": {},
     "outputs": [],
     "prompt_number": 5
    },
    {
     "cell_type": "markdown",
     "metadata": {},
     "source": [
      "---\n",
      "\n",
      "How to format\n",
      "-------------\n",
      "\n",
      "<img src=\"files/figures/tbl.png\"/>\n",
      "    "
     ]
    },
    {
     "cell_type": "markdown",
     "metadata": {},
     "source": [
      "---\n",
      "\n",
      "Script 3\n",
      "--------\n",
      "\n",
      "    "
     ]
    },
    {
     "cell_type": "code",
     "collapsed": false,
     "input": [
      "import sys,os\n",
      "cmd = 'date'\n",
      "output = os.popen(cmd)\n",
      "lines = output.readlines()\n",
      "fail = output.close()\n",
      "if fail: print 'You do not have the date command'; sys.exit()\n",
      "for line in lines:\n",
      "    line = line.split()\n",
      "    print \"The current time is %s on %s %s, %s\" % (line[3],line[2],line[1],line[-1])\n"
     ],
     "language": "python",
     "metadata": {},
     "outputs": [
      {
       "output_type": "stream",
       "stream": "stdout",
       "text": [
        "The current time is 16:32:23 on 9 Sep, 2012\n"
       ]
      }
     ],
     "prompt_number": 6
    },
    {
     "cell_type": "markdown",
     "metadata": {},
     "source": [
      "---\n",
      "\n",
      "A Bib-file\n",
      "----------\n",
      "\n",
      "    @Book{Langtangen2011,\n",
      "      author = \t  {Hans Petter Langtangen},\n",
      "      title = \t  {A Primer on Scientific Programming with Python},\n",
      "      publisher = {Springer},\n",
      "      year = \t  {2011}\n",
      "    }\n",
      "    @Book{Langtangen2010,\n",
      "      author = \t  {Hans Petter Langtangen},\n",
      "      title = \t  {Python Scripting for Computational Science},\n",
      "      publisher = {Springer},\n",
      "      year = \t  {2010}\n",
      "    }\n"
     ]
    },
    {
     "cell_type": "markdown",
     "metadata": {},
     "source": [
      "---\n",
      "\n",
      "\n",
      "Script 4\n",
      "--------\n",
      "    "
     ]
    },
    {
     "cell_type": "code",
     "collapsed": false,
     "input": [
      "import re\n",
      "pattern1 = \"@Book{(.*),\"\n",
      "pattern2 = \"\\s+title\\s+=\\s+{(.*)},\"\n",
      "for line in file('data/test.bib'):\n",
      "    match = re.search(pattern1,line)\n",
      "    if match: \n",
      "        print \"Found a book with the tag '%s'\" % match.group(1)\n",
      "    match = re.search(pattern2,line)\n",
      "    if match:\n",
      "        print \"The title is '%s'\" % match.group(1)"
     ],
     "language": "python",
     "metadata": {},
     "outputs": [
      {
       "output_type": "stream",
       "stream": "stdout",
       "text": [
        "Found a book with the tag 'Langtangen2011'\n",
        "The title is 'A Primer on Scientific Programming with Python'\n",
        "Found a book with the tag 'Langtangen2010'\n",
        "The title is 'Python Scripting for Computational Science'\n"
       ]
      }
     ],
     "prompt_number": 8
    },
    {
     "cell_type": "markdown",
     "metadata": {},
     "source": [
      "---\n",
      "\n",
      "Pattern Formation\n",
      "------------------"
     ]
    },
    {
     "cell_type": "code",
     "collapsed": true,
     "input": [
      "\"\"\"Pattern formation code\n",
      "\n",
      "    Solves the pair of PDEs:\n",
      "       u_t = D_1 \\nabla^2 u + f(u,v)\n",
      "       v_t = D_2 \\nabla^2 v + g(u,v)\n",
      "\"\"\"\n",
      "\n",
      "#import matplotlib\n",
      "#matplotlib.use('TkAgg')\n",
      "import numpy as np\n",
      "import matplotlib.pyplot as plt\n",
      "from scipy.sparse import spdiags,linalg,eye\n",
      "from time import sleep\n",
      "\n",
      "#Parameter values\n",
      "Du=0.500; Dv=1;\n",
      "delta=0.0045; tau1=0.02; tau2=0.2; alpha=0.899; beta=-0.91; gamma=-alpha;\n",
      "#delta=0.0045; tau1=0.02; tau2=0.2; alpha=1.9; beta=-0.91; gamma=-alpha;\n",
      "#delta=0.0045; tau1=2.02; tau2=0.; alpha=2.0; beta=-0.91; gamma=-alpha;\n",
      "#delta=0.0021; tau1=3.5; tau2=0; alpha=0.899; beta=-0.91; gamma=-alpha;\n",
      "#delta=0.0045; tau1=0.02; tau2=0.2; alpha=1.9; beta=-0.85; gamma=-alpha;\n",
      "#delta=0.0001; tau1=0.02; tau2=0.2; alpha=0.899; beta=-0.91; gamma=-alpha;\n",
      "#delta=0.0005; tau1=2.02; tau2=0.; alpha=2.0; beta=-0.91; gamma=-alpha; nx=150;\n",
      "\n",
      "#Define the reaction functions\n",
      "def f(u,v):\n",
      "    return alpha*u*(1-tau1*v**2) + v*(1-tau2*u);\n",
      "\n",
      "def g(u,v):\n",
      "    return beta*v*(1+alpha*tau1/beta*u*v) + u*(gamma+tau2*v);\n",
      "\n",
      "\n",
      "def five_pt_laplacian(m,a,b):\n",
      "    \"\"\"Construct a matrix that applies the 5-point laplacian discretization\"\"\"\n",
      "    e=np.ones(m**2)\n",
      "    e2=([0]+[1]*(m-1))*m\n",
      "    h=(b-a)/(m+1)\n",
      "    A=np.diag(-4*e,0)+np.diag(e2[1:],-1)+np.diag(e2[1:],1)+np.diag(e[m:],m)+np.diag(e[m:],-m)\n",
      "    A/=h**2\n",
      "    return A\n",
      "\n",
      "def five_pt_laplacian_sparse(m,a,b):\n",
      "    \"\"\"Construct a sparse matrix that applies the 5-point laplacian discretization\"\"\"\n",
      "    e=np.ones(m**2)\n",
      "    e2=([1]*(m-1)+[0])*m\n",
      "    e3=([0]+[1]*(m-1))*m\n",
      "    h=(b-a)/(m+1)\n",
      "    A=spdiags([-4*e,e2,e3,e,e],[0,-1,1,-m,m],m**2,m**2)\n",
      "    A/=h**2\n",
      "    return A\n",
      "\n",
      "# Set up the grid\n",
      "a=-1.; b=1.\n",
      "m=100; h=(b-a)/m; \n",
      "x = np.linspace(-1,1,m)\n",
      "y = np.linspace(-1,1,m)\n",
      "Y,X = np.meshgrid(y,x)\n",
      "\n",
      "# Initial data\n",
      "u=np.random.randn(m,m)/2.;\n",
      "v=np.random.randn(m,m)/2.;\n",
      "plt.hold(False)\n",
      "plt.pcolormesh(x,y,u)\n",
      "plt.colorbar; plt.axis('image'); \n",
      "plt.draw()\n",
      "u=u.reshape(-1)\n",
      "v=v.reshape(-1)\n",
      "\n",
      "A=five_pt_laplacian_sparse(m,-1.,1.);\n",
      "II=eye(m*m,m*m)\n",
      "\n",
      "t=0.\n",
      "dt=h/delta/5.;\n",
      "plt.ion()\n",
      "\n",
      "#Now step forward in time\n",
      "for k in range(120):\n",
      "    #Simple (1st-order) operator splitting:\n",
      "    u = linalg.spsolve(II-dt*delta*Du*A,u)\n",
      "    v = linalg.spsolve(II-dt*delta*Dv*A,v)\n",
      "\n",
      "    unew=u+dt*f(u,v);\n",
      "    v   =v+dt*g(u,v);\n",
      "    u=unew;\n",
      "    t=t+dt;\n",
      "\n",
      "    #Plot every 3rd frame\n",
      "    if k/3==float(k)/3:\n",
      "        U=u.reshape((m,m))\n",
      "        plt.pcolormesh(x,y,U)\n",
      "        plt.colorbar\n",
      "        plt.axis('image')\n",
      "\tplt.title(str(t))\n",
      "        plt.draw()\n",
      "\n",
      "plt.ioff()"
     ],
     "language": "python",
     "metadata": {},
     "outputs": [
      {
       "ename": "RuntimeError",
       "evalue": "module compiled against API version 6 but this version of numpy is 4",
       "output_type": "pyerr",
       "traceback": [
        "\u001b[0;31m---------------------------------------------------------------------------\u001b[0m\n\u001b[0;31mRuntimeError\u001b[0m                              Traceback (most recent call last)",
        "\u001b[0;31mRuntimeError\u001b[0m: module compiled against API version 6 but this version of numpy is 4"
       ]
      },
      {
       "ename": "ImportError",
       "evalue": "numpy.core.multiarray failed to import",
       "output_type": "pyerr",
       "traceback": [
        "\u001b[0;31m---------------------------------------------------------------------------\u001b[0m\n\u001b[0;31mImportError\u001b[0m                               Traceback (most recent call last)",
        "\u001b[0;32m<ipython-input-1-38cb7c502c0b>\u001b[0m in \u001b[0;36m<module>\u001b[0;34m()\u001b[0m\n\u001b[1;32m      9\u001b[0m \u001b[0;31m#matplotlib.use('TkAgg')\u001b[0m\u001b[0;34m\u001b[0m\u001b[0;34m\u001b[0m\u001b[0m\n\u001b[1;32m     10\u001b[0m \u001b[0;32mimport\u001b[0m \u001b[0mnumpy\u001b[0m \u001b[0;32mas\u001b[0m \u001b[0mnp\u001b[0m\u001b[0;34m\u001b[0m\u001b[0m\n\u001b[0;32m---> 11\u001b[0;31m \u001b[0;32mimport\u001b[0m \u001b[0mmatplotlib\u001b[0m\u001b[0;34m.\u001b[0m\u001b[0mpyplot\u001b[0m \u001b[0;32mas\u001b[0m \u001b[0mplt\u001b[0m\u001b[0;34m\u001b[0m\u001b[0m\n\u001b[0m\u001b[1;32m     12\u001b[0m \u001b[0;32mfrom\u001b[0m \u001b[0mscipy\u001b[0m\u001b[0;34m.\u001b[0m\u001b[0msparse\u001b[0m \u001b[0;32mimport\u001b[0m \u001b[0mspdiags\u001b[0m\u001b[0;34m,\u001b[0m\u001b[0mlinalg\u001b[0m\u001b[0;34m,\u001b[0m\u001b[0meye\u001b[0m\u001b[0;34m\u001b[0m\u001b[0m\n\u001b[1;32m     13\u001b[0m \u001b[0;32mfrom\u001b[0m \u001b[0mtime\u001b[0m \u001b[0;32mimport\u001b[0m \u001b[0msleep\u001b[0m\u001b[0;34m\u001b[0m\u001b[0m\n",
        "\u001b[0;32m/opt/local/Library/Frameworks/Python.framework/Versions/2.7/lib/python2.7/site-packages/matplotlib/pyplot.py\u001b[0m in \u001b[0;36m<module>\u001b[0;34m()\u001b[0m\n\u001b[1;32m     21\u001b[0m \u001b[0;32mfrom\u001b[0m \u001b[0mmatplotlib\u001b[0m\u001b[0;34m.\u001b[0m\u001b[0mcbook\u001b[0m \u001b[0;32mimport\u001b[0m \u001b[0mdedent\u001b[0m\u001b[0;34m,\u001b[0m \u001b[0msilent_list\u001b[0m\u001b[0;34m,\u001b[0m \u001b[0mis_string_like\u001b[0m\u001b[0;34m,\u001b[0m \u001b[0mis_numlike\u001b[0m\u001b[0;34m\u001b[0m\u001b[0m\n\u001b[1;32m     22\u001b[0m \u001b[0;32mfrom\u001b[0m \u001b[0mmatplotlib\u001b[0m \u001b[0;32mimport\u001b[0m \u001b[0mdocstring\u001b[0m\u001b[0;34m\u001b[0m\u001b[0m\n\u001b[0;32m---> 23\u001b[0;31m \u001b[0;32mfrom\u001b[0m \u001b[0mmatplotlib\u001b[0m\u001b[0;34m.\u001b[0m\u001b[0mfigure\u001b[0m \u001b[0;32mimport\u001b[0m \u001b[0mFigure\u001b[0m\u001b[0;34m,\u001b[0m \u001b[0mfigaspect\u001b[0m\u001b[0;34m\u001b[0m\u001b[0m\n\u001b[0m\u001b[1;32m     24\u001b[0m \u001b[0;32mfrom\u001b[0m \u001b[0mmatplotlib\u001b[0m\u001b[0;34m.\u001b[0m\u001b[0mbackend_bases\u001b[0m \u001b[0;32mimport\u001b[0m \u001b[0mFigureCanvasBase\u001b[0m\u001b[0;34m\u001b[0m\u001b[0m\n\u001b[1;32m     25\u001b[0m \u001b[0;32mfrom\u001b[0m \u001b[0mmatplotlib\u001b[0m\u001b[0;34m.\u001b[0m\u001b[0mimage\u001b[0m \u001b[0;32mimport\u001b[0m \u001b[0mimread\u001b[0m \u001b[0;32mas\u001b[0m \u001b[0m_imread\u001b[0m\u001b[0;34m\u001b[0m\u001b[0m\n",
        "\u001b[0;32m/opt/local/Library/Frameworks/Python.framework/Versions/2.7/lib/python2.7/site-packages/matplotlib/figure.py\u001b[0m in \u001b[0;36m<module>\u001b[0;34m()\u001b[0m\n\u001b[1;32m     14\u001b[0m \u001b[0;32mimport\u001b[0m \u001b[0mnumpy\u001b[0m \u001b[0;32mas\u001b[0m \u001b[0mnp\u001b[0m\u001b[0;34m\u001b[0m\u001b[0m\n\u001b[1;32m     15\u001b[0m \u001b[0;34m\u001b[0m\u001b[0m\n\u001b[0;32m---> 16\u001b[0;31m \u001b[0;32mimport\u001b[0m \u001b[0martist\u001b[0m\u001b[0;34m\u001b[0m\u001b[0m\n\u001b[0m\u001b[1;32m     17\u001b[0m \u001b[0;32mfrom\u001b[0m \u001b[0martist\u001b[0m \u001b[0;32mimport\u001b[0m \u001b[0mArtist\u001b[0m\u001b[0;34m,\u001b[0m \u001b[0mallow_rasterization\u001b[0m\u001b[0;34m\u001b[0m\u001b[0m\n\u001b[1;32m     18\u001b[0m \u001b[0;32mfrom\u001b[0m \u001b[0maxes\u001b[0m \u001b[0;32mimport\u001b[0m \u001b[0mAxes\u001b[0m\u001b[0;34m,\u001b[0m \u001b[0mSubplotBase\u001b[0m\u001b[0;34m,\u001b[0m \u001b[0msubplot_class_factory\u001b[0m\u001b[0;34m\u001b[0m\u001b[0m\n",
        "\u001b[0;32m/opt/local/Library/Frameworks/Python.framework/Versions/2.7/lib/python2.7/site-packages/matplotlib/artist.py\u001b[0m in \u001b[0;36m<module>\u001b[0;34m()\u001b[0m\n\u001b[1;32m      4\u001b[0m \u001b[0;32mimport\u001b[0m \u001b[0mmatplotlib\u001b[0m\u001b[0;34m.\u001b[0m\u001b[0mcbook\u001b[0m \u001b[0;32mas\u001b[0m \u001b[0mcbook\u001b[0m\u001b[0;34m\u001b[0m\u001b[0m\n\u001b[1;32m      5\u001b[0m \u001b[0;32mfrom\u001b[0m \u001b[0mmatplotlib\u001b[0m \u001b[0;32mimport\u001b[0m \u001b[0mdocstring\u001b[0m\u001b[0;34m,\u001b[0m \u001b[0mrcParams\u001b[0m\u001b[0;34m\u001b[0m\u001b[0m\n\u001b[0;32m----> 6\u001b[0;31m \u001b[0;32mfrom\u001b[0m \u001b[0mtransforms\u001b[0m \u001b[0;32mimport\u001b[0m \u001b[0mBbox\u001b[0m\u001b[0;34m,\u001b[0m \u001b[0mIdentityTransform\u001b[0m\u001b[0;34m,\u001b[0m \u001b[0mTransformedBbox\u001b[0m\u001b[0;34m,\u001b[0m \u001b[0mTransformedPath\u001b[0m\u001b[0;34m\u001b[0m\u001b[0m\n\u001b[0m\u001b[1;32m      7\u001b[0m \u001b[0;32mfrom\u001b[0m \u001b[0mpath\u001b[0m \u001b[0;32mimport\u001b[0m \u001b[0mPath\u001b[0m\u001b[0;34m\u001b[0m\u001b[0m\n\u001b[1;32m      8\u001b[0m \u001b[0;34m\u001b[0m\u001b[0m\n",
        "\u001b[0;32m/opt/local/Library/Frameworks/Python.framework/Versions/2.7/lib/python2.7/site-packages/matplotlib/transforms.py\u001b[0m in \u001b[0;36m<module>\u001b[0;34m()\u001b[0m\n\u001b[1;32m     32\u001b[0m \u001b[0;32mimport\u001b[0m \u001b[0mnumpy\u001b[0m \u001b[0;32mas\u001b[0m \u001b[0mnp\u001b[0m\u001b[0;34m\u001b[0m\u001b[0m\n\u001b[1;32m     33\u001b[0m \u001b[0;32mfrom\u001b[0m \u001b[0mnumpy\u001b[0m \u001b[0;32mimport\u001b[0m \u001b[0mma\u001b[0m\u001b[0;34m\u001b[0m\u001b[0m\n\u001b[0;32m---> 34\u001b[0;31m \u001b[0;32mfrom\u001b[0m \u001b[0mmatplotlib\u001b[0m\u001b[0;34m.\u001b[0m\u001b[0m_path\u001b[0m \u001b[0;32mimport\u001b[0m \u001b[0maffine_transform\u001b[0m\u001b[0;34m\u001b[0m\u001b[0m\n\u001b[0m\u001b[1;32m     35\u001b[0m \u001b[0;32mfrom\u001b[0m \u001b[0mnumpy\u001b[0m\u001b[0;34m.\u001b[0m\u001b[0mlinalg\u001b[0m \u001b[0;32mimport\u001b[0m \u001b[0minv\u001b[0m\u001b[0;34m\u001b[0m\u001b[0m\n\u001b[1;32m     36\u001b[0m \u001b[0;34m\u001b[0m\u001b[0m\n",
        "\u001b[0;31mImportError\u001b[0m: numpy.core.multiarray failed to import"
       ]
      }
     ],
     "prompt_number": 1
    },
    {
     "cell_type": "code",
     "collapsed": false,
     "input": [],
     "language": "python",
     "metadata": {},
     "outputs": []
    }
   ],
   "metadata": {}
  }
 ]
}