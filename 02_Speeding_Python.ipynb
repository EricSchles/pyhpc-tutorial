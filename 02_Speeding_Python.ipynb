{
 "metadata": {
  "name": "02_Speeding_Python"
 },
 "nbformat": 3,
 "nbformat_minor": 0,
 "worksheets": [
  {
   "cells": [
    {
     "cell_type": "markdown",
     "metadata": {},
     "source": [
      "Python in HPC\n",
      "=============\n",
      "\n",
      "Supercomputing 2012\n",
      "-------------------\n",
      "\n",
      "Presenters:\n",
      "\n",
      "Andy R. Terrel, PhD  \n",
      "Texas Advanced Computing Center  \n",
      "University of Texas at Austin  \n",
      "\n",
      "Travis Oliphant, PhD  \n",
      "Continuum Analytics\n",
      "\n",
      "Aron Ahmadia, PhD  \n",
      "Supercomputing Laboratory  \n",
      "King Abdullah University of Science and Technoglogy\n",
      "\n",
      "\n",
      "<img src=\"/files/figures/TACC_logo.png\" />\n",
      "<img src=\"/files/figures/continuum.png\" />\n",
      "<img src=\"/files/figures/kaust.png\" />"
     ]
    },
    {
     "cell_type": "markdown",
     "metadata": {},
     "source": [
      "---\n",
      "\n",
      "## Updated Tutorial\n",
      "\n",
      "To get an updated version of this tutorial you can:\n",
      "\n",
      "1) Download a zip or tar ball from the [github SC2012 tag](https://github.com/aterrel/HPCPythonSC2012/tags):\n",
      "\n",
      "    wget --no-check-certificate https://github.com/aterrel/HPCPythonSC2012/zipball/SC2012\n",
      "    wget --no-check-certificate https://github.com/aterrel/HPCPythonSC2012/tarball/SC2012\n",
      "\n",
      "2) Checkout from git\n",
      "\n",
      "    git clone https://github.com/aterrel/HPCPythonSC2012.git"
     ]
    },
    {
     "cell_type": "markdown",
     "metadata": {},
     "source": [
      "---\n",
      "\n",
      "## Running the Tutorial\n",
      "\n",
      "This tutorial is actually an interactive worksheet designed to encourage the students to try out the lessons live.  If you are looking at the pdf version, you might download the updated version (see last slide) and try the interactive version.\n",
      "\n",
      "To run the interactive version, you need a good Python environment including (such as [EPD](http://www.enthought.com/products/epd.php)):\n",
      "\n",
      "* IPython version >= 13.0\n",
      "* Numpy version >= 1.5\n",
      "* Scipy\n",
      "* Matplotlib\n",
      "\n",
      "Move to the directory containing the tarball and execute:\n",
      "\n",
      "    $ ipython notebook --pylab=inline"
     ]
    },
    {
     "cell_type": "markdown",
     "metadata": {},
     "source": [
      "---\n",
      "## How Slow is Python\n",
      "\n",
      "\n",
      "Let's add one to a million number"
     ]
    },
    {
     "cell_type": "code",
     "collapsed": false,
     "input": [
      "lst = range(1000000) # A pure Python list\n",
      "%timeit [i + 1 for i in lst] # A Python list comprehension (iteration happens in C but with PyObjects)"
     ],
     "language": "python",
     "metadata": {},
     "outputs": [
      {
       "output_type": "stream",
       "stream": "stdout",
       "text": [
        "1 loops, best of 3: 208 ms per loop\n"
       ]
      }
     ],
     "prompt_number": 1
    },
    {
     "cell_type": "markdown",
     "metadata": {},
     "source": [
      "---\n",
      "##Why is Python Slow?\n",
      "\n",
      "Dynamic typing requires lots of metadata around variable. \n",
      "\n",
      "* Python uses heavy frame objects during iteration\n",
      "\n",
      "### Solution:\n",
      "* Make an object that has a single type and continuous storage.\n",
      "* Implement common functionality into that object to iterate in C."
     ]
    },
    {
     "cell_type": "code",
     "collapsed": false,
     "input": [
      "arr = arange(1000000) # A NumPy list of integers\n",
      "%timeit arr + 1 # Use operator overloading for nice syntax, now iteration is in C with ints"
     ],
     "language": "python",
     "metadata": {},
     "outputs": [
      {
       "output_type": "stream",
       "stream": "stdout",
       "text": [
        "100 loops, best of 3: 6.64 ms per loop\n"
       ]
      }
     ],
     "prompt_number": 2
    },
    {
     "cell_type": "markdown",
     "metadata": {},
     "source": [
      "---\n",
      "## What makes NumPy so much faster?\n",
      "* Data layout\n",
      "  * homogenous: every item takes up the same size block of memory\n",
      "  * single data-type objects\n",
      "  * powerful array scalar types\n",
      "\n",
      "* universal function (ufuncs)\n",
      "  * function that operates on ndarrays in an element-by-element fashion\n",
      "  * vectorized wrapper for a function\n",
      "  * built-in functions are implemented in compiled C code"
     ]
    },
    {
     "cell_type": "markdown",
     "metadata": {},
     "source": [
      "---\n",
      "## Numpy Data layout\n",
      "\n",
      "* homogenous: every item takes up the same size block of memory\n",
      "* single data-type objects\n",
      "* powerful array scalar types\n",
      "\n",
      "![three fundamental](/files/figures/numpy/threefundamental.png)\n",
      "\n"
     ]
    },
    {
     "cell_type": "markdown",
     "metadata": {},
     "source": [
      "---\n",
      "## Numpy Universal Functions (ufuncs)\n",
      "\n",
      "* function that operates on ndarrays in an element-by-element fashion\n",
      "* vectorized wrapper for a function\n",
      "* built-in functions are implemented in compiled C code"
     ]
    },
    {
     "cell_type": "code",
     "collapsed": false,
     "input": [
      "%timeit [sin(i)**2 for i in arr]\n"
     ],
     "language": "python",
     "metadata": {},
     "outputs": [
      {
       "output_type": "stream",
       "stream": "stdout",
       "text": [
        "1 loops, best of 3: 11.6 s per loop\n"
       ]
      }
     ],
     "prompt_number": 3
    },
    {
     "cell_type": "code",
     "collapsed": false,
     "input": [
      "%timeit np.sin(arr)**2"
     ],
     "language": "python",
     "metadata": {},
     "outputs": [
      {
       "output_type": "stream",
       "stream": "stdout",
       "text": [
        "10 loops, best of 3: 44.8 ms per loop\n"
       ]
      }
     ],
     "prompt_number": 6
    },
    {
     "cell_type": "markdown",
     "metadata": {},
     "source": [
      "---\n",
      "## Other Numpy Features to be aware of\n",
      "\n",
      "* Reshaping"
     ]
    },
    {
     "cell_type": "code",
     "collapsed": false,
     "input": [
      "arr2 = arr.reshape((10,100000))\n",
      "print(arr2)"
     ],
     "language": "python",
     "metadata": {},
     "outputs": [
      {
       "output_type": "stream",
       "stream": "stdout",
       "text": [
        "[[     0      1      2 ...,  99997  99998  99999]\n",
        " [100000 100001 100002 ..., 199997 199998 199999]\n",
        " [200000 200001 200002 ..., 299997 299998 299999]\n",
        " ..., \n",
        " [700000 700001 700002 ..., 799997 799998 799999]\n",
        " [800000 800001 800002 ..., 899997 899998 899999]\n",
        " [900000 900001 900002 ..., 999997 999998 999999]]\n"
       ]
      }
     ],
     "prompt_number": 10
    },
    {
     "cell_type": "markdown",
     "metadata": {},
     "source": [
      "* Memory Views"
     ]
    },
    {
     "cell_type": "code",
     "collapsed": false,
     "input": [
      "arr2.view?"
     ],
     "language": "python",
     "metadata": {},
     "outputs": [],
     "prompt_number": 13
    },
    {
     "cell_type": "markdown",
     "metadata": {},
     "source": [
      "* Indexing Slicing"
     ]
    },
    {
     "cell_type": "code",
     "collapsed": false,
     "input": [
      "x = np.arange(0, 20, 2); y = x**2\n",
      "((y[1:] - y[:-1]) / (x[1:] - x[:-1])) # dy/dx"
     ],
     "language": "python",
     "metadata": {},
     "outputs": [
      {
       "output_type": "pyout",
       "prompt_number": 14,
       "text": [
        "array([ 2,  6, 10, 14, 18, 22, 26, 30, 34])"
       ]
      }
     ],
     "prompt_number": 14
    },
    {
     "cell_type": "code",
     "collapsed": false,
     "input": [
      "((y[2:] - y[:-2])/(x[2:] - x[:-2])) # d^2y/dx^2 via center differencing"
     ],
     "language": "python",
     "metadata": {},
     "outputs": [
      {
       "output_type": "pyout",
       "prompt_number": 15,
       "text": [
        "array([ 4,  8, 12, 16, 20, 24, 28, 32])"
       ]
      }
     ],
     "prompt_number": 15
    },
    {
     "cell_type": "markdown",
     "metadata": {},
     "source": [
      "* Fancy Indexing"
     ]
    },
    {
     "cell_type": "code",
     "collapsed": false,
     "input": [
      "evens = arr[arr%2 == 0]\n",
      "print(evens)"
     ],
     "language": "python",
     "metadata": {},
     "outputs": [
      {
       "output_type": "stream",
       "stream": "stdout",
       "text": [
        "[     0      2      4 ..., 999994 999996 999998]\n"
       ]
      }
     ],
     "prompt_number": 18
    },
    {
     "cell_type": "markdown",
     "metadata": {},
     "source": []
    },
    {
     "cell_type": "markdown",
     "metadata": {},
     "source": []
    }
   ],
   "metadata": {}
  }
 ]
}