{
 "metadata": {
  "name": "03_Scaling_Python"
 },
 "nbformat": 3,
 "nbformat_minor": 0,
 "worksheets": [
  {
   "cells": [
    {
     "cell_type": "markdown",
     "metadata": {},
     "source": [
      "<style>\n",
      "    h1{\n",
      "        text-align:center;\n",
      "    }\n",
      "    h2{\n",
      "        text-align:center;\n",
      "        font-variant:small-caps;\n",
      "    }\n",
      "</style>\n",
      "# Scaling Python\n",
      "# Python in HPC\n",
      "\n",
      "##Supercomputing 2012\n",
      "\n",
      "Presenters:\n",
      "\n",
      "Andy R. Terrel, PhD  \n",
      "Texas Advanced Computing Center  \n",
      "University of Texas at Austin  \n",
      "\n",
      "Travis Oliphant, PhD  \n",
      "Continuum Analytics\n",
      "\n",
      "Aron Ahmadia, PhD  \n",
      "Supercomputing Laboratory  \n",
      "King Abdullah University of Science and Technoglogy\n",
      "\n",
      "[![Creative Commons License](http://i.creativecommons.org/l/by/3.0/88x31.png)](http://creativecommons.org/licenses/by/3.0/deed.en_US)  \n",
      "\n",
      "![TACC Logo](/files/figures/TACC_logo.png)\n",
      "![Continuum Logo](/files/figures/continuum.png)\n",
      "![KAUST Logo](/files/figures/kaust.png)\n",
      "\n",
      "<script>\n",
      "var bind_remote = function(selector){\n",
      "    var cc = $('<input/>')\n",
      "        .attr('id','azerty')\n",
      "        .fadeTo(0.2,0)\n",
      "        .keydown(\n",
      "        function(event){\n",
      "                if(event.which == IPython.utils.keycodes.LEFT_ARROW){\n",
      "                    console.log('go left');\n",
      "                    IPython.slideshow.prev();\n",
      "                }\n",
      "                else if(event.which == IPython.utils.keycodes.RIGHT_ARROW){\n",
      "                    console.log('go right')\n",
      "                    IPython.slideshow.next();   \n",
      "                }\n",
      "            event.preventDefault();\n",
      "            return false;\n",
      "            })\n",
      "            .focusin(function(){$('#qwerty').button('option','label','Slide Mode Enabled')})\n",
      "            .focusout(function(){$('#qwerty').button('option','label','Enable Slide Mode')})\n",
      "        \n",
      "        var dd = $('<div/>')\n",
      "            .attr('id','qwerty')\n",
      "            .button({label:'slide control'})\n",
      "            .attr('style','float:right')\n",
      "            .click(\n",
      "                function(){\n",
      "                    $('#azerty').focus();\n",
      "                    console.log('...');\n",
      "                })\n",
      "            .keydown(\n",
      "                function(event){\n",
      "                    console.log('event append',event);\n",
      "                event.preventDefault();\n",
      "                return false;\n",
      "                })\n",
      "    var hin = function(){$(selector).fadeTo('slow',1);}\n",
      "    var hout= function(){$(selector).fadeTo('slow',0.3);}        \n",
      "    $(selector)\n",
      "        .append(cc)\n",
      "        .append(dd)\n",
      "        .fadeTo('slow',0.3)\n",
      "    .hover(hin,hout)\n",
      "     \n",
      "}\n",
      "</script>   "
     ]
    },
    {
     "cell_type": "markdown",
     "metadata": {},
     "source": [
      "---\n",
      "\n",
      "## Updated Tutorial\n",
      "<!--====-->\n",
      "\n",
      "These presentation materials are being continuously updated as we refine and improve our demonstrats.  To get the latest version of this tutorial you can:\n",
      "\n",
      "1) Download a zip or tar ball from the [github SC2012 tag](https://github.com/aterrel/HPCPythonSC2012/tags):\n",
      "\n",
      "    wget --no-check-certificate https://github.com/aterrel/HPCPythonSC2012/zipball/SC2012\n",
      "    wget --no-check-certificate https://github.com/aterrel/HPCPythonSC2012/tarball/SC2012\n",
      "\n",
      "2) Checkout from git\n",
      "\n",
      "    git clone https://github.com/aterrel/HPCPythonSC2012.git\n",
      "\n",
      "3) View the html version on nbviewer: http://nbviewer.ipython.org/urls/raw.github.com/aterrel/HPCPythonSC2012/master/01_Introducing_Python.ipynb\n",
      "\n",
      "4) As a last resort, head to https://github.com/aterrel/HPCPythonSC2012 for updated instructions (see the README at the bottom of the page).\n"
     ]
    },
    {
     "cell_type": "markdown",
     "metadata": {},
     "source": [
      "---\n",
      "\n",
      "## Interacting with the Tutorial Slides\n",
      "<!--====-->\n",
      "\n",
      "This tutorial is an interactive worksheet designed to encourage you to try out the lessons during the demonstration.  If you are looking at the pdf version, we encourage you to download the updated version (see previous slide) and try the interactive version.\n",
      "\n",
      "To run the interactive version, you need a good Python environment including: \n",
      "\n",
      "* IPython version >= 13.0\n",
      "* Numpy version >= 1.5\n",
      "* Scipy\n",
      "* Matplotlib\n",
      "\n",
      "Move to the directory containing the tarball and execute:\n",
      "\n",
      "    $ ipython notebook --pylab=inline\n",
      "\n",
      "We heartily endorse the [Free Enthought Python Distribution](http://www.enthought.com/products/epd_free.php)."
     ]
    },
    {
     "cell_type": "markdown",
     "metadata": {},
     "source": [
      "---\n",
      "## Presentation mode\n",
      "<!--====-->\n",
      "The slide show mode is only supported by an IPython development branch version. To get it I recommend cloning from the official branch, adding Matthias Carreau's remote, fetching and using his branch slideshow_extension2.  Here are the commands:\n",
      "\n",
      "    git clone git://github.com/ipython/ipython.git # Official clone\n",
      "    cd ipython\n",
      "    git remote add carreau git://github.com/Carreau/ipython.git # Matthias' branch\n",
      "    git fetch carreau # Fetch the branches\n",
      "    git checkout carreau/slideshow_extension2 # Checkout the slideshow extension\n",
      "    python setup.py develop # Install the development version\n",
      "    ipython notebook # Check out the slideshows.\n"
     ]
    },
    {
     "cell_type": "markdown",
     "metadata": {},
     "source": [
      "<style>\n",
      "        .pmode{ display: none !important }\n",
      "</style>\n",
      "<script>\n",
      "  var IPython = (function(IPython) {\n",
      "\n",
      "      var Presentation = function(){\n",
      "          this.ccell = 0;\n",
      "      }\n",
      "\n",
      "      var is_marked_cell = function(cell){\n",
      "          return (cell.code_mirror.getValue().match(/(\\n)?(<!--|#)?====(-->)?(\\n)?/) != null)\n",
      "      }\n",
      "\n",
      "      Presentation.prototype.create_toolbar = function(){\n",
      "            var pt = $('<div/>').attr('id','toolbar_present').addClass('toolbar');\n",
      "            var that = this;\n",
      "            this.avc = $('<div/>').button({label:that.eta()});\n",
      "            pt.append(this.avc);\n",
      "\n",
      "            $('#toolbar').after(pt);\n",
      "            ptoolbar = new IPython.ToolBar('#toolbar_present');\n",
      "            IPython.ptoolbar = ptoolbar;\n",
      "            ptoolbar.addButtonsGroup([{label:'Stop', icon:'ui-icon-stop', callback:function(){that.stop()}}])\n",
      "            ptoolbar.addButtonsGroup([\n",
      "                     {label:'Prev Slide', icon:'ui-icon-seek-prev', callback:function(){that.prev_group()}},\n",
      "                     {label:'Next Slide', icon:'ui-icon-seek-next', callback:function(){that.next_group()}},\n",
      "                                    ])\n",
      "            ptoolbar.addButtonsGroup([\n",
      "                     {label:'Step Next', icon:'ui-icon-play', callback:function(){that.next()}}\n",
      "                     ])\n",
      "            bind_remote('#toolbar_present');\n",
      "\n",
      "      }\n",
      "\n",
      "      Presentation.prototype.remove_toolbar = function(){\n",
      "          $('#toolbar_present').remove();\n",
      "      }\n",
      "\n",
      "      Presentation.prototype.ngroups = function(){\n",
      "          var cells = IPython.notebook.get_cells();\n",
      "          var cnt =0\n",
      "          for( var i=0; i< cells.length;i++)\n",
      "              if(is_marked_cell(cells[i])) cnt++;\n",
      "          return cnt\n",
      "      }\n",
      "\n",
      "      Presentation.prototype.cgroups = function(){\n",
      "          var cells = IPython.notebook.get_cells();\n",
      "          var cnt =0\n",
      "          for( var i=0; i<= this.ccell ;i++)\n",
      "              if(is_marked_cell(cells[i])) cnt++;\n",
      "          return cnt\n",
      "      }\n",
      "\n",
      "      Presentation.prototype.eta = function(){\n",
      "          return this.cgroups()+'/'+this.ngroups()\n",
      "          }\n",
      "\n",
      "      Presentation.prototype.next_marked_cell_n = function()\n",
      "      {\n",
      "          for(var i=this.ccell+1; i< $('.cell').length; i++)\n",
      "          {\n",
      "              if(is_marked_cell(IPython.notebook.get_cell(i)))\n",
      "                { return i; }\n",
      "          }\n",
      "          return null;\n",
      "      }\n",
      "\n",
      "      Presentation.prototype.prev_marked_cell_n = function()\n",
      "      {\n",
      "          for(var i=this.ccell-1; i> 0; i--)\n",
      "          {\n",
      "              if(is_marked_cell(IPython.notebook.get_cell(i))){\n",
      "                 return i\n",
      "              }\n",
      "          }\n",
      "          return 0;\n",
      "      }\n",
      "\n",
      "      Presentation.prototype.start = function(){\n",
      "          this.restart();\n",
      "          this.resume();\n",
      "      }\n",
      "\n",
      "      Presentation.prototype.restart = function(){\n",
      "          this.ccell = 0;\n",
      "          delete this.avc;\n",
      "      }\n",
      "\n",
      "      Presentation.prototype.resume = function(){\n",
      "          this.create_toolbar();\n",
      "          $('#menubar, #pager_splitter, #pager, #header,#toolbar').addClass('pmode');\n",
      "          $('.cell').fadeOut();\n",
      "          if(this.current_is_marked()){\n",
      "              $('.cell:nth('+this.ccell+')').fadeIn();\n",
      "          } else {\n",
      "              for( var i=this.prev_marked_cell_n() ; i<= this.ccell; i++){\n",
      "                  $('.cell:nth('+i+')').fadeIn();\n",
      "              }\n",
      "          }\n",
      "          var that=this;\n",
      "          if(this.avc != undefined)\n",
      "            $(this.avc).button('option','label',that.eta())\n",
      "          return this;\n",
      "      }\n",
      "\n",
      "      Presentation.prototype.stop = function(){\n",
      "          $('.cell').fadeIn();\n",
      "          $('.pmode').removeClass('pmode');\n",
      "          $('div#notebook').removeClass('pove');\n",
      "          this.remove_toolbar();\n",
      "      }\n",
      "\n",
      "      Presentation.prototype.next = function(){\n",
      "          this.ccell = this.ccell+1;\n",
      "          var that = this;\n",
      "          if(this.ccell >= $('.cell').length ){\n",
      "              this.restart();\n",
      "              this.stop();\n",
      "              return;\n",
      "          }\n",
      "          var nnext = this.ccell;\n",
      "          var ncell = IPython.notebook.get_cell(nnext)\n",
      "\n",
      "          if(is_marked_cell(ncell)){\n",
      "              $('.cell').fadeOut(500);\n",
      "              setTimeout(function(){$('.cell:nth('+nnext+')').fadeIn(500)},600);\n",
      "          } else {\n",
      "              setTimeout(function(){$('.cell:nth('+nnext+')').fadeIn(500)},0);\n",
      "          }\n",
      "          $(this.avc).button('option','label',that.eta())\n",
      "          return this;\n",
      "      }\n",
      "\n",
      "      Presentation.prototype.next_group = function(){\n",
      "          this.ccell = this.next_marked_cell_n();\n",
      "          var that = this;\n",
      "          $('.cell').fadeOut(500);\n",
      "          setTimeout(function(){\n",
      "              $('.cell:nth('+that.ccell+')').fadeIn(500)\n",
      "                  },600);\n",
      "          $(this.avc).button('option','label',that.eta())\n",
      "      }\n",
      "\n",
      "      Presentation.prototype.prev_group = function(){\n",
      "          this.ccell = this.prev_marked_cell_n();\n",
      "          var that = this\n",
      "          $('.cell').fadeOut(500);\n",
      "          setTimeout(function(){$('.cell:nth('+that.ccell+')').fadeIn(500)},600);\n",
      "          $(this.avc).button('option','label',that.eta())\n",
      "      }\n",
      "\n",
      "      Presentation.prototype.is_n_marked = function(n){\n",
      "          return is_marked_cell(IPython.notebook.get_cell(n))\n",
      "      }\n",
      "\n",
      "      Presentation.prototype.current_is_marked = function(n){\n",
      "          return is_marked_cell(IPython.notebook.get_cell(this.ccell));\n",
      "      }\n",
      "\n",
      "      Presentation.prototype.prev = function(){\n",
      "          if(is_marked_cell(IPython.notebook.get_cell(this.ccell))){\n",
      "              var pmcell = this.prev_marked_cell_n();\n",
      "\n",
      "              $('.cell').fadeOut(500);\n",
      "              for( var i=pmcell; i< this.ccell ; i++ ){\n",
      "                  (function(val){\n",
      "                      return function(){\n",
      "                                  setTimeout( function(){\n",
      "                                      $('.cell:nth('+val+')').fadeIn(500)\n",
      "                                      },600);\n",
      "                      }\n",
      "                   })(i)();\n",
      "              }\n",
      "          } else {\n",
      "              $('.cell:nth('+this.ccell+')').fadeOut(500);\n",
      "          }\n",
      "          this.ccell = this.ccell -1;\n",
      "          return this;\n",
      "      }\n",
      "\n",
      "      IPython.Presentation = Presentation;\n",
      "      return IPython;\n",
      "\n",
      "}(IPython));\n",
      "\n",
      "IPython.slideshow = new IPython.Presentation();\n",
      "\n",
      "var sid = 'start_pmode'\n",
      "if(($('#'+sid)).length == 0) {\n",
      "      IPython.toolbar.addButtonsGroup([\n",
      "              {'label'  :'Start Slideshow',\n",
      "                'icon'  :'ui-icon-image',\n",
      "                'callback':function(){IPython.slideshow.resume()},'id':sid},\n",
      "          ])\n",
      "     }\n",
      "</script>\n"
     ]
    },
    {
     "cell_type": "markdown",
     "metadata": {},
     "source": [
      "---\n",
      "\n",
      "Acknowledgements\n",
      "-------------------------------------\n",
      "<!--====-->\n",
      "\n",
      "* Much of this tutorial adapts slide material from [William Gropp](http://www.cs.uiuc.edu/~wgropp/), University of Illinois\n",
      "* [mpi4py](http://code.google.com/p/mpi4py/) is a [Cythonized](http://www.cython.org/) wrapper around [MPI](http://www.mpi-forum.org/) originally developed by [Lisandro Dalcin](http://plus.google.com/107621373684536061961/about), CONICET\n"
     ]
    },
    {
     "cell_type": "markdown",
     "metadata": {},
     "source": [
      "---\n",
      "\n",
      "Connecting to MPI via IPython\n",
      "-------------------------------------\n",
      "<!--====-->\n",
      "\n",
      "To run the examples in parallel, you must run the command:\n",
      "\n",
      "`ipcluster start --engines=MPI --n 4` \n",
      "\n",
      "Or use notebook Appendix_03_Launch_MPI_Engines\n",
      "\n",
      "And execute the next cell:"
     ]
    },
    {
     "cell_type": "code",
     "collapsed": false,
     "input": [
      "from IPython.parallel import Client\n",
      "c = Client()\n",
      "view = c[:]\n",
      "\n",
      "%load_ext parallelmagic\n",
      "view.activate()\n",
      "view.block = True"
     ],
     "language": "python",
     "metadata": {},
     "outputs": [],
     "prompt_number": 2
    },
    {
     "cell_type": "markdown",
     "metadata": {},
     "source": [
      "---\n",
      "\n",
      "The Free Lunch is Over\n",
      "-------------------------------------\n",
      "<!--====-->\n",
      "\n",
      "![freelunch](/files/figures/free_lunch.png)\n"
     ]
    },
    {
     "cell_type": "markdown",
     "metadata": {},
     "source": [
      "---\n",
      "\n",
      "# The Multiple Forms of Parallelism\n",
      "<!--====-->\n",
      "\n",
      "* **instruction** - multiple program instructions are simultaneously dispatched in a pipeline or to multiple execution units (superscalar)\n",
      "* **data** - the same program instructions are carried out simultaneously on multiple data items (SIMD)\n",
      "* **task** - different program instructions on different data (MIMD)\n",
      "* **collective** - single program, multiple data, not necessarily synchronized at individual operation level (SPMD)\n"
     ]
    },
    {
     "cell_type": "markdown",
     "metadata": {},
     "source": [
      "---\n",
      "\n",
      "The Rise of Manycore\n",
      "-------------------------------------\n",
      "<!--====-->\n",
      "\n",
      "![concurrency](/files/figures/concurrency_2.png)\n"
     ]
    },
    {
     "cell_type": "markdown",
     "metadata": {},
     "source": [
      "---\n",
      "\n",
      "# Parallel Architectures\n",
      "<!--====-->\n",
      "\n",
      "* All modern supercomputing architectures are composed of distributed memory compute nodes connected over toroidal networks\n",
      "  \n",
      "  - close mapping to physically n-dimensional problems\n",
      "  - efficient algorithms exist for local point-to-point and collective communications across toroids\n",
      "\n",
      "* We expect to see higher dimensional interconnects and power-efficient networks that consume less power when not sending traffic\n"
     ]
    },
    {
     "cell_type": "markdown",
     "metadata": {},
     "source": [
      "---\n",
      "\n",
      "# Parallel Programming Paradigms\n",
      "<!--====-->\n",
      "\n",
      "* a parallel programming paradigm is a specific approach to exploiting parallelism in hardware\n",
      "* many programming paradigms are very tightly coupled to the hardware beneath!\n",
      "  \n",
      " - CUDA assumes large register files, Same Instruction Multiple Thread parallelism, and a mostly flat, structured memory model, matching the underlying GPU hardware\n",
      "\n",
      " - OpenMP exposes loop level parallelism with a fork/join model, assumes the presence of shared memory and atomics\n",
      "\n",
      " - OpenCl tries to generalize CUDA, but still assumes a 'coprocessor' approach, where kernels are shipped from a master core to worker cores\n"
     ]
    },
    {
     "cell_type": "markdown",
     "metadata": {},
     "source": [
      "---\n",
      "\n",
      "The Message Passing Model\n",
      "-------------------------------------\n",
      "<!--====-->\n",
      "\n",
      "* a process is (traditionally) a program counter for instructions and an address space for data\n",
      "* processes may have multiple threads (program counters and associated stacks) sharing a single address space\n",
      "* message passing is for communication among processes, which have separate address spaces\n",
      "* interprocess communication consists of\n",
      "  \n",
      "  - synchronization\n",
      "  - movement of data from one process's address space to another's\n"
     ]
    },
    {
     "cell_type": "markdown",
     "metadata": {},
     "source": [
      "---\n",
      "\n",
      "Why MPI?\n",
      "-------------------------------------\n",
      "<!--====-->\n",
      "\n",
      "* **communicators** encapsulate communication spaces for library safety\n",
      "* **datatypes** reduce copying costs and permit heterogeneity\n",
      "* multiple **communication modes** allow more control of memory buffer management\n",
      "* extensive **collective operations** for scalable global communication\n",
      "* **process topologies** permit efficient process placement, user views of process layout\n",
      "* **profiling interface** encourages portable tools\n",
      "\n",
      "It Scales!"
     ]
    },
    {
     "cell_type": "markdown",
     "metadata": {},
     "source": [
      "---\n",
      "\n",
      "Python + MPI Does It Scale?\n",
      "-------------------------------------\n",
      "\n",
      "* This and next slide courtesy the **PyClaw** project: http://numerics.kaust.edu.sa/pyclaw/\n",
      "* See also **GPAW**: https://wiki.fysik.dtu.dk/gpaw/\n",
      "\n",
      "![concurrency](/files/figures/does_it_scale.png)\n"
     ]
    },
    {
     "cell_type": "markdown",
     "metadata": {},
     "source": [
      "---\n",
      "\n",
      "The Scalability of Python + MPI\n",
      "-------------------------------------\n",
      "\n",
      "![concurrency](/files/figures/euler_weak_scaling.png)\n"
     ]
    },
    {
     "cell_type": "markdown",
     "metadata": {},
     "source": [
      "---\n",
      "\n",
      "MPI - Quick Review\n",
      "-------------------------------------\n",
      "\n",
      "* processes can be collected into **groups**\n",
      "* each message is sent in a **context**, and must be received in the same context\n",
      "* a  **communicator** encapsulates a context for a specific group\n",
      "* a given program may have many communicators with any level of overlap\n",
      "* two initial communicators\n",
      " \n",
      "  - ``MPI_COMM_WORLD`` (all processes)\n",
      "  - ``MPI_COMM_SELF`` (current process)"
     ]
    },
    {
     "cell_type": "markdown",
     "metadata": {},
     "source": [
      "---\n",
      "First Example: HelloWorld\n",
      "-------------------------------------\n",
      "<!--====-->\n",
      "\n",
      "For interactive convenience, we load the parallel magic extensions and make this view\n",
      "the active one for the automatic parallelism magics.\n",
      "\n",
      "This is not necessary and in production codes likely won't be used, as the engines will \n",
      "load their own MPI codes separately.  But it makes it easy to illustrate everything from\n",
      "within a single notebook here."
     ]
    },
    {
     "cell_type": "code",
     "collapsed": false,
     "input": [
      "from IPython.parallel import Client\n",
      "c = Client()\n",
      "view = c[:]\n",
      "\n",
      "%load_ext parallelmagic\n",
      "view.activate()\n",
      "view.block = True"
     ],
     "language": "python",
     "metadata": {},
     "outputs": []
    },
    {
     "cell_type": "markdown",
     "metadata": {},
     "source": [
      "Use the autopx magic to make the rest of this cell execute on the engines instead\n",
      "of locally"
     ]
    },
    {
     "cell_type": "code",
     "collapsed": false,
     "input": [
      "%autopx"
     ],
     "language": "python",
     "metadata": {},
     "outputs": [
      {
       "output_type": "stream",
       "stream": "stdout",
       "text": [
        "%autopx enabled\n"
       ]
      }
     ],
     "prompt_number": 3
    },
    {
     "cell_type": "markdown",
     "metadata": {},
     "source": [
      "With autopx enabled, the next cell will actually execute *entirely on each engine*:"
     ]
    },
    {
     "cell_type": "code",
     "collapsed": false,
     "input": [
      "from mpi4py import MPI\n",
      "\n",
      "size = MPI.COMM_WORLD.Get_size()\n",
      "rank = MPI.COMM_WORLD.Get_rank()\n",
      "name = MPI.Get_processor_name()\n",
      "\n",
      "print(\"Helloworld! I am process %d of %d on %s.\\n\" % (rank, size, name))"
     ],
     "language": "python",
     "metadata": {},
     "outputs": [
      {
       "output_type": "stream",
       "stream": "stdout",
       "text": [
        "[stdout:0] \n",
        "Helloworld! I am process 1 of 4 on orchid.local.\n",
        "\n",
        "[stdout:1] \n",
        "Helloworld! I am process 2 of 4 on orchid.local.\n",
        "\n",
        "[stdout:2] \n",
        "Helloworld! I am process 3 of 4 on orchid.local.\n",
        "\n",
        "[stdout:3] \n",
        "Helloworld! I am process 0 of 4 on orchid.local.\n",
        "\n"
       ]
      }
     ],
     "prompt_number": 4
    },
    {
     "cell_type": "markdown",
     "metadata": {},
     "source": [
      "---\n",
      "\n",
      "Communicators\n",
      "-------------------------------------\n",
      "<!--====-->\n",
      "\n",
      "* processes can be collected into **groups**\n",
      "* each message is sent in a **context**, and must be received in the same context\n",
      "* a  **communicator** encapsulates a context for a specific group\n",
      "* a given program may have many communicators with any level of overlap\n",
      "* two initial communicators\n",
      " \n",
      "  - ``MPI_COMM_WORLD`` (all processes)\n",
      "  - ``MPI_COMM_SELF`` (current process)"
     ]
    },
    {
     "cell_type": "markdown",
     "metadata": {},
     "source": [
      "---\n",
      "\n",
      "Datatypes\n",
      "-------------------------------------\n",
      "<!--====-->\n",
      "\n",
      "* the data in a message to send or receive is described by address, count and datatype\n",
      "* a datatype is recursively defined as:\n",
      "\n",
      "  + predefined, corresponding to a data type from the language (e.g., ``MPI_INT``, ``MPI_DOUBLE``)\n",
      "  + a contiguous, strided block, or indexed array of blocks of MPI datatypes\n",
      "  + an arbitrary structure of datatypes\n",
      "\n",
      "* there are MPI functions to construct custom datatypes"
     ]
    },
    {
     "cell_type": "markdown",
     "metadata": {},
     "source": [
      "---\n",
      "\n",
      "Tags\n",
      "-------------------------------------\n",
      "<!--====-->\n",
      "\n",
      "* messages are sent with an accompanying user-defined integer tag to assist the receiving process in identifying the message\n",
      "* messages can be screened at the receiving end by specifying the expected tag, or not screened by using ``MPI_ANY_TAG`` "
     ]
    },
    {
     "cell_type": "markdown",
     "metadata": {},
     "source": [
      "---\n",
      "\n",
      "Checkpoint #1\n",
      "-------------------------------------\n",
      "<!--====-->\n",
      "\n",
      "If tags allow us to screen/separate peer-to-peer messages, why do we need communicators?\n"
     ]
    },
    {
     "cell_type": "markdown",
     "metadata": {},
     "source": [
      "---\n",
      "\n",
      "Functionality\n",
      "-------------------------------------\n",
      "<!--====-->\n",
      "\n",
      "* There are hundreds of functions in the MPI standard, not all of them are necessarily available in MPI4Py, most commonly used are\n",
      "* No need to call MPI_Init() or MPI_Finalize()\n",
      " - MPI_Init() is called when you import the module\n",
      " - MPI_Finalize() is called before the Python process ends\n",
      "* To launch:\n",
      "mpirun --np < number of process > -machinefile < hostlist > python < my MPI4Py python script >\n"
     ]
    },
    {
     "cell_type": "markdown",
     "metadata": {},
     "source": [
      "---\n",
      "\n",
      "MPI Basic (Blocking) Send\n",
      "-------------------------------------\n",
      "<!--====-->\n",
      "\n",
      "```\n",
      "   int MPI_Send(void* buf, int count, MPI_Datatype type, \n",
      "   int dest, int tag, MPI_Comm comm)\n",
      "```\n",
      "\n",
      "Python (mpi4py)\n",
      "\n",
      "```\n",
      "  Comm.Send(self, buf, int dest=0, int tag=0)\n",
      "  Comm.send(self, obj=None, int dest=0, int tag=0)\n",
      "```"
     ]
    },
    {
     "cell_type": "markdown",
     "metadata": {},
     "source": [
      "---\n",
      "\n",
      "MPI Basic (Blocking) Recv\n",
      "-------------------------------------\n",
      "<!--====-->\n",
      "\n",
      "```\n",
      "   int MPI_Recv(void* buf, int count, MPI_Datatype type, \n",
      "   int source, int tag, MPI_Comm comm, MPI_Status status)\n",
      "```\n",
      "\n",
      "Python (mpi4py)\n",
      "\n",
      "```\n",
      "  comm.Recv(self, buf, int source=0, int tag=0, \n",
      "  Status status=None)\n",
      "  comm.recv(self, obj=None, int source=0, \n",
      "  int tag=0, Status status=None)\n",
      "```"
     ]
    },
    {
     "cell_type": "markdown",
     "metadata": {},
     "source": [
      "---\n",
      "Send/Receive Example (lowercase convenience methods)\n",
      "-------------------------------------\n",
      "<!--====-->\n"
     ]
    },
    {
     "cell_type": "code",
     "collapsed": false,
     "input": [
      "from mpi4py import MPI\n",
      "\n",
      "comm = MPI.COMM_WORLD\n",
      "rank = comm.Get_rank()\n",
      "\n",
      "if rank == 0:\n",
      "   data = {'a': 7, 'b': 3.14}\n",
      "   comm.send(data, dest=1, tag=11)\n",
      "elif rank == 1:\n",
      "   data = comm.recv(source=0, tag=11)\n",
      "   print data"
     ],
     "language": "python",
     "metadata": {},
     "outputs": [
      {
       "output_type": "stream",
       "stream": "stdout",
       "text": [
        "[stdout:0] {'a': 7, 'b': 3.14}\n"
       ]
      }
     ],
     "prompt_number": 5
    },
    {
     "cell_type": "markdown",
     "metadata": {},
     "source": [
      "---\n",
      "Send/Receive Example (MPI API on numpy)\n",
      "-------------------"
     ]
    },
    {
     "cell_type": "code",
     "collapsed": false,
     "input": [
      "from mpi4py import MPI\n",
      "import numpy\n",
      "\n",
      "comm = MPI.COMM_WORLD\n",
      "rank = comm.Get_rank()\n",
      "\n",
      "# pass explicit MPI datatypes\n",
      "if rank == 0:\n",
      "   data = numpy.arange(1000, dtype='i')\n",
      "   comm.Send([data, MPI.INT], dest=1, tag=77)\n",
      "elif rank == 1:\n",
      "   data = numpy.empty(1000, dtype='i')\n",
      "   comm.Recv([data, MPI.INT], source=0, tag=77)\n",
      "\n",
      "# or take advantage of automatic MPI datatype discovery\n",
      "if rank == 0:\n",
      "   data = numpy.arange(100, dtype=numpy.float64)\n",
      "   comm.Send(data, dest=1, tag=13)\n",
      "elif rank == 1:\n",
      "   data = numpy.empty(100, dtype=numpy.float64)\n",
      "   comm.Recv(data, source=0, tag=13)\n",
      "   print data"
     ],
     "language": "python",
     "metadata": {},
     "outputs": [
      {
       "output_type": "stream",
       "stream": "stdout",
       "text": [
        "[stdout:0] \n",
        "[  0.   1.   2.   3.   4.   5.   6.   7.   8.   9.  10.  11.  12.  13.  14.\n",
        "  15.  16.  17.  18.  19.  20.  21.  22.  23.  24.  25.  26.  27.  28.  29.\n",
        "  30.  31.  32.  33.  34.  35.  36.  37.  38.  39.  40.  41.  42.  43.  44.\n",
        "  45.  46.  47.  48.  49.  50.  51.  52.  53.  54.  55.  56.  57.  58.  59.\n",
        "  60.  61.  62.  63.  64.  65.  66.  67.  68.  69.  70.  71.  72.  73.  74.\n",
        "  75.  76.  77.  78.  79.  80.  81.  82.  83.  84.  85.  86.  87.  88.  89.\n",
        "  90.  91.  92.  93.  94.  95.  96.  97.  98.  99.]\n"
       ]
      }
     ],
     "prompt_number": 6
    },
    {
     "cell_type": "markdown",
     "metadata": {},
     "source": [
      "---\n",
      "Synchronization\n",
      "-------------------------------------\n",
      "<!--====-->\n",
      "\n",
      "```\n",
      "   int MPI_Barrier(MPI_Comm comm)\n",
      "```\n",
      "\n",
      "Python (mpi4py)\n",
      "\n",
      "```\n",
      "   comm.Barrier(self)\n",
      "   comm.barrier(self)\n",
      "```"
     ]
    },
    {
     "cell_type": "code",
     "collapsed": false,
     "input": [
      "from mpi4py import MPI\n",
      "\n",
      "comm = MPI.COMM_WORLD\n",
      "rank = comm.Get_rank()\n",
      "\n",
      "for r_id in range(comm.Get_size()):\n",
      "    if rank == r_id:\n",
      "        print \"Hello from proc:\", rank\n",
      "    comm.Barrier()\n"
     ],
     "language": "python",
     "metadata": {},
     "outputs": [
      {
       "output_type": "stream",
       "stream": "stdout",
       "text": [
        "[stdout:0] Hello from proc: 1\n",
        "[stdout:1] Hello from proc: 2\n",
        "[stdout:2] Hello from proc: 3\n",
        "[stdout:3] Hello from proc: 0\n"
       ]
      }
     ],
     "prompt_number": 7
    },
    {
     "cell_type": "markdown",
     "metadata": {},
     "source": [
      "---\n",
      "\n",
      "Timing and Profiling\n",
      "-------------------------------------\n",
      "<!--====-->\n",
      "\n",
      "the elapsed (wall-clock) time between two points in an MPI program can be computed using MPI_Wtime:\n",
      "\n",
      "```\n",
      "      t1 = MPI.Wtime()\n",
      "      t2 = MPI.Wtime()\n",
      "      print(\"time elapsed is: %e\\n\" % (t2-t1))\n",
      "```"
     ]
    },
    {
     "cell_type": "markdown",
     "metadata": {},
     "source": [
      "---\n",
      "Send/Receive Example (lowercase convenience methods)\n",
      "-------------------------------------\n",
      "<!--====-->\n",
      "\n",
      "![broadcast_scatter_gather](/files/figures/broadcast_scatter_gather.png)\n"
     ]
    },
    {
     "cell_type": "markdown",
     "metadata": {},
     "source": [
      "---\n",
      "Broadcast Example\n",
      "-------------------------------------\n",
      "<!--====-->\n",
      "\n",
      "```\n",
      "   int MPI_Bcast(void *buf, int count, MPI_Datatype type, \n",
      "   int root, MPI_Comm comm)\n",
      "```\n",
      "\n",
      "Python (mpi4py)\n",
      "\n",
      "``` \n",
      "  comm.Bcast(self, buf, int root=0)\n",
      "  comm.bcast(self, obj=None, int root=0)\n",
      "```"
     ]
    },
    {
     "cell_type": "code",
     "collapsed": false,
     "input": [
      "from mpi4py import MPI\n",
      "\n",
      "comm = MPI.COMM_WORLD\n",
      "rank = comm.Get_rank()\n",
      "\n",
      "if rank == 0:\n",
      "   data = {'key1' : [7, 2.72, 2+3j],\n",
      "           'key2' : ( 'abc', 'xyz')}\n",
      "else:\n",
      "   data = None\n",
      "data = comm.bcast(data, root=0)\n",
      "print \"bcast finished and data \\\n",
      " on rank %d is: \"%comm.rank, data\n"
     ],
     "language": "python",
     "metadata": {},
     "outputs": [
      {
       "output_type": "stream",
       "stream": "stdout",
       "text": [
        "[stdout:0] bcast finished and data  on rank 1 is:  {'key2': ('abc', 'xyz'), 'key1': [7, 2.72, (2+3j)]}\n",
        "[stdout:1] bcast finished and data  on rank 2 is:  {'key2': ('abc', 'xyz'), 'key1': [7, 2.72, (2+3j)]}\n",
        "[stdout:2] bcast finished and data  on rank 3 is:  {'key2': ('abc', 'xyz'), 'key1': [7, 2.72, (2+3j)]}\n",
        "[stdout:3] bcast finished and data  on rank 0 is:  {'key2': ('abc', 'xyz'), 'key1': [7, 2.72, (2+3j)]}\n"
       ]
      }
     ],
     "prompt_number": 11
    },
    {
     "cell_type": "markdown",
     "metadata": {},
     "source": [
      "\n",
      "---\n",
      "Scatter Example:\n",
      "-------------------------------------\n",
      "<!--====-->\n"
     ]
    },
    {
     "cell_type": "code",
     "collapsed": false,
     "input": [
      "from mpi4py import MPI\n",
      "\n",
      "comm = MPI.COMM_WORLD\n",
      "size = comm.Get_size()\n",
      "rank = comm.Get_rank()\n",
      "\n",
      "if rank == 0:\n",
      "   data = [(i+1)**2 for i in range(size)]\n",
      "else:\n",
      "   data = None\n",
      "data = comm.scatter(data, root=0)\n",
      "assert data == (rank+1)**2\n",
      "print \"data on rank %d is: \"%comm.rank, data"
     ],
     "language": "python",
     "metadata": {},
     "outputs": [
      {
       "output_type": "stream",
       "stream": "stdout",
       "text": [
        "[stdout:0] data on rank 1 is:  4\n",
        "[stdout:1] data on rank 2 is:  9\n",
        "[stdout:2] data on rank 3 is:  16\n",
        "[stdout:3] data on rank 0 is:  1\n"
       ]
      }
     ],
     "prompt_number": 8
    },
    {
     "cell_type": "markdown",
     "metadata": {},
     "source": [
      "\n",
      "---\n",
      "Gather (and Barrier) Example:\n",
      "-------------------------------------\n",
      "<!--====-->\n"
     ]
    },
    {
     "cell_type": "code",
     "collapsed": false,
     "input": [
      "from mpi4py import MPI\n",
      "\n",
      "comm = MPI.COMM_WORLD\n",
      "size = comm.Get_size()\n",
      "rank = comm.Get_rank()\n",
      "\n",
      "data = (rank+1)**2\n",
      "print \"before gather, data on \\\n",
      "  rank %d is: \"%rank, data\n",
      "\n",
      "comm.Barrier()\n",
      "data = comm.gather(data, root=0)\n",
      "if rank == 0:\n",
      "   for i in range(size):\n",
      "       assert data[i] == (i+1)**2\n",
      "else:\n",
      "   assert data is None\n",
      "print \"data on rank: %d is: \"%rank, data"
     ],
     "language": "python",
     "metadata": {},
     "outputs": [
      {
       "output_type": "stream",
       "stream": "stdout",
       "text": [
        "[stdout:0] \n",
        "before gather, data on   rank 1 is:  4\n",
        "data on rank: 1 is:  None\n",
        "[stdout:1] \n",
        "before gather, data on   rank 2 is:  9\n",
        "data on rank: 2 is:  None\n",
        "[stdout:2] \n",
        "before gather, data on   rank 3 is:  16\n",
        "data on rank: 3 is:  None\n",
        "[stdout:3] \n",
        "before gather, data on   rank 0 is:  1\n",
        "data on rank: 0 is:  [1, 4, 9, 16]\n"
       ]
      }
     ],
     "prompt_number": 9
    },
    {
     "cell_type": "markdown",
     "metadata": {},
     "source": [
      "---\n",
      "Collective Example\n",
      "-------------------\n",
      "<!--====-->\n",
      "\n",
      "![reduce_scan](/files/figures/reduce_scan.png)\n"
     ]
    },
    {
     "cell_type": "markdown",
     "metadata": {},
     "source": [
      "\n",
      "---\n",
      "Reduce Example:\n",
      "-------------------------------------\n",
      "<!--====-->\n"
     ]
    },
    {
     "cell_type": "code",
     "collapsed": false,
     "input": [
      "from mpi4py import MPI\n",
      "comm = MPI.COMM_WORLD\n",
      "\n",
      "sendmsg = comm.rank\n",
      "\n",
      "recvmsg1 = comm.reduce(sendmsg, op=MPI.SUM, root=0)\n",
      "\n",
      "recvmsg2 = comm.allreduce(sendmsg)\n",
      "print recvmsg2"
     ],
     "language": "python",
     "metadata": {},
     "outputs": [
      {
       "output_type": "stream",
       "stream": "stdout",
       "text": [
        "[stdout:0] 6\n",
        "[stdout:1] 6\n",
        "[stdout:2] 6\n",
        "[stdout:3] 6\n"
       ]
      }
     ],
     "prompt_number": 10
    },
    {
     "cell_type": "markdown",
     "metadata": {},
     "source": [
      "---\n",
      "Compute Pi Example\n",
      "-------------------\n",
      "<!--====-->\n"
     ]
    },
    {
     "cell_type": "code",
     "collapsed": false,
     "input": [
      "from mpi4py import MPI\n",
      "import math\n",
      "\n",
      "def compute_pi(n, start=0, step=1):\n",
      "    h = 1.0 / n\n",
      "    s = 0.0\n",
      "    for i in range(start, n, step):\n",
      "        x = h * (i + 0.5)\n",
      "        s += 4.0 / (1.0 + x**2)\n",
      "    return s * h\n",
      "\n",
      "comm = MPI.COMM_WORLD\n",
      "nprocs = comm.Get_size()\n",
      "myrank = comm.Get_rank()\n",
      "if myrank == 0:\n",
      "    n = 10\n",
      "else:\n",
      "    n = None\n",
      "\n",
      "n = comm.bcast(n, root=0)\n",
      "\n",
      "mypi = compute_pi(n, myrank, nprocs)\n",
      "\n",
      "pi = comm.reduce(mypi, op=MPI.SUM, root=0)\n",
      "\n",
      "if myrank == 0:\n",
      "    error = abs(pi - math.pi)\n",
      "    print (\"pi is approximately %.16f, error is %.16f\" % (pi, error))"
     ],
     "language": "python",
     "metadata": {},
     "outputs": [
      {
       "output_type": "stream",
       "stream": "stdout",
       "text": [
        "[stdout:3] pi is approximately 3.1424259850010983, error is 0.0008333314113051\n"
       ]
      }
     ],
     "prompt_number": 12
    },
    {
     "cell_type": "markdown",
     "metadata": {},
     "source": [
      "---\n",
      "Mandelbrot Set Example\n",
      "-------------------\n",
      "<!--====-->\n"
     ]
    },
    {
     "cell_type": "code",
     "collapsed": false,
     "input": [
      "def mandelbrot (x, y, maxit):\n",
      "    c = x + y*1j\n",
      "    z = 0 + 0j\n",
      "    it = 0\n",
      "    while abs(z) < 2 and it < maxit:\n",
      "        z = z**2 + c\n",
      "        it += 1\n",
      "    return it\n",
      "\n",
      "x1, x2 = -2.0, 1.0\n",
      "y1, y2 = -1.0, 1.0\n",
      "w, h = 150, 100\n",
      "maxit = 127\n",
      "\n",
      "from mpi4py import MPI\n",
      "import numpy\n",
      "  \n",
      "comm = MPI.COMM_WORLD\n",
      "size = comm.Get_size()\n",
      "rank = comm.Get_rank()\n",
      "\n",
      "# number of rows to compute here\n",
      "N = h // size + (h % size > rank)\n",
      "\n",
      "# first row to compute here\n",
      "start = comm.scan(N)-N\n",
      "\n",
      "# array to store local result\n",
      "Cl = numpy.zeros([N, w], dtype='i')\n",
      "\n",
      "# compute owned rows\n",
      "\n",
      "dx = (x2 - x1) / w\n",
      "dy = (y2 - y1) / h\n",
      "\n",
      "for i in range(N):\n",
      "    y = y1 + (i + start) * dy\n",
      "    for j in range(w):\n",
      "        x = x1 + j * dx\n",
      "        Cl[i, j] = mandelbrot(x, y, maxit)\n",
      "\n",
      "# gather results at root (process 0)\n",
      "counts = comm.gather(N, root=0)\n",
      "C = None\n",
      "if rank == 0:\n",
      "    C = numpy.zeros([h, w], dtype='i')\n",
      "\n",
      "rowtype = MPI.INT.Create_contiguous(w)\n",
      "rowtype.Commit()\n",
      "\n",
      "comm.Gatherv(sendbuf=[Cl, MPI.INT], recvbuf=[C, (counts, None), rowtype],root=0)\n",
      "\n",
      "rowtype.Free()"
     ],
     "language": "python",
     "metadata": {},
     "outputs": [],
     "prompt_number": 13
    },
    {
     "cell_type": "markdown",
     "metadata": {},
     "source": [
      "We now need to \"pull\" the C array for plotting so we disable autopx. Make sure to re-enable it later on"
     ]
    },
    {
     "cell_type": "code",
     "collapsed": false,
     "input": [
      "%autopx"
     ],
     "language": "python",
     "metadata": {},
     "outputs": [
      {
       "output_type": "stream",
       "stream": "stdout",
       "text": [
        "%autopx disabled\n"
       ]
      }
     ],
     "prompt_number": 14
    },
    {
     "cell_type": "code",
     "collapsed": false,
     "input": [
      "# CC is an array of C from all ranks, so we use CC[0]\n",
      "CC = view['C']\n",
      "ranks = view['rank']\n",
      "\n",
      "# Do the plotting\n",
      "from matplotlib import pyplot\n",
      "# Some magic to get to MPI4PY rank 0, not necessarily engine id 0\n",
      "pyplot.imshow(CC[ranks.index(0)], aspect='equal')\n",
      "pyplot.spectral()\n",
      "pyplot.show()"
     ],
     "language": "python",
     "metadata": {},
     "outputs": [],
     "prompt_number": 15
    },
    {
     "cell_type": "markdown",
     "metadata": {},
     "source": [
      "Toggle autopx back"
     ]
    },
    {
     "cell_type": "code",
     "collapsed": false,
     "input": [
      "%autopx"
     ],
     "language": "python",
     "metadata": {},
     "outputs": [
      {
       "output_type": "stream",
       "stream": "stdout",
       "text": [
        "%autopx enabled\n"
       ]
      }
     ],
     "prompt_number": 16
    },
    {
     "cell_type": "markdown",
     "metadata": {},
     "source": [
      "---\n",
      "Advanced Capabilities\n",
      "----------------------------\n",
      "<!--====-->\n",
      "\n",
      "* MPI4Py supports dynamic processes through spawning: Spawn(), Connect() and Disconnect()\n",
      "* MPI4PY supports one sided communication Put(), Get(), Accumulate()\n",
      "* MPI4Py supports MPI-IO: Open(), Close(), Get_view() and Set_view()"
     ]
    },
    {
     "cell_type": "markdown",
     "metadata": {},
     "source": [
      "---\n",
      "More Comprehensive mpi4py Tutorials\n",
      "----------------------------\n",
      "<!--====-->\n",
      "\n",
      "* basics - http://mpi4py.scipy.org/docs/usrman/tutorial.html\n",
      "* advanced - http://www.bu.edu/pasi/files/2011/01/Lisandro-Dalcin-mpi4py.pdf\n",
      "Timing and Profiling\n",
      "-------------------------------------\n",
      "\n",
      "Interesting Scalable Applications and Tools\n",
      "---------------------------------------------\n",
      "* PyTrilinos - http://trilinos.sandia.gov/packages/pytrilinos/\n",
      "* petsc4py - http://code.google.com/p/petsc4py/\n",
      "* PyClaw - http://numerics.kaust.edu.sa/pyclaw/\n",
      "* GPAW - https://wiki.fysik.dtu.dk/gpaw/\n",
      "\n",
      "--> See Appendix 01 References for more resources\n",
      "----------------------------------------------"
     ]
    },
    {
     "cell_type": "code",
     "collapsed": false,
     "input": [],
     "language": "python",
     "metadata": {},
     "outputs": []
    }
   ],
   "metadata": {}
  }
 ]
}